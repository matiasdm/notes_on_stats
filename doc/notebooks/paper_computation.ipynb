{
 "cells": [
  {
   "cell_type": "markdown",
   "id": "e3fb15b1",
   "metadata": {},
   "source": [
    "# Analysis of the autism data"
   ]
  },
  {
   "cell_type": "code",
   "execution_count": null,
   "id": "37c155ce",
   "metadata": {},
   "outputs": [],
   "source": []
  },
  {
   "cell_type": "code",
   "execution_count": 4,
   "id": "c709db38",
   "metadata": {},
   "outputs": [
    {
     "name": "stdout",
     "output_type": "stream",
     "text": [
      "The autoreload extension is already loaded. To reload it, use:\n",
      "  %reload_ext autoreload\n",
      "Done.\n"
     ]
    }
   ],
   "source": [
    "run init.ipynb"
   ]
  },
  {
   "cell_type": "markdown",
   "id": "46d11a13",
   "metadata": {},
   "source": [
    "* This section aims at answering a few questions related to the different algorithms used, with the aim of optimizing our classification framework.\n",
    "\n",
    "**Parameters or potential settings**\n",
    "\n",
    "* The approach used, which could be Logistic Regression, Decision Tree, Explainable Boosting Machine, Neural Additive models, or XGBoost.\n",
    "* The use or not of indicator variables as inputs. \n",
    "* The scaling of the data. \n",
    "* The imputation approach when the learning algorithms does not handle them by design. It could be constant imputation (called encoding here), or conditional imputation (mean, knn, or mice).\n",
    "* The sampling method in the case of imbalance learning (either no down-sampling, vanilla (random sampling of the minority class until classes are balanced), or SMOTE (a more elaborated sampling).\n",
    "* The number of features, between 2 and 6. \n",
    "* The number of folds when cross-validating the results. \n",
    "\n",
    "**Notes on the classification pipeline:**\n",
    "\n",
    "* Two datasets are age-matched but one (scenario `asd_td_age_matched_n_balanced`) lead to relatively balanced classes, whereas the scenario `asd_td_age_matched_n_unbalanced` has slightly younger kids and so leverage the amount of young neuro-typical kids, and is more unbalanced. \n",
    "* No searches on hyper-parameters are performed on each of the approach. Cross-validation is performed with the stratified inner-fold being left-out, the model is fitted on the training set, and the prediction of the test set is done with predictions stored for later evaluation of performances. \n",
    "* since a lot of settings parameters are tested, we test all of the hypothesis with a default setting that is: Encoding of the missing variables, scaling of the data, no use of indicator variables, no down-sampling (???), and a 16-fold cross-validation.\n",
    "* Features selection were made for the two scenario suing the features with the higher importance based on xgboost importance map.\n",
    "* Classification here is between autistic and neurotypical participants.\n",
    "\n",
    "\n",
    "\n",
    "**Among the questions at stakes:**\n",
    "\n",
    "* Experiment 1: Shall we use indicator variables? For each scenario (columns of axes), ad each dimension of the problem (rows of axes) , x is the `use_of_indicator_variables`, y is an indicator of performances (typically the F1 score), and the hue variable are the approaches. The plots are performed for no imputations, \n",
    "* Experiement 2: Shall we scale data or not ? \n",
    "* Experiment X: for the algorithms handling missing variables (xgboost, nam with encoding) , shall we let them be missing, or imputed ? "
   ]
  },
  {
   "cell_type": "markdown",
   "id": "a45b0eca",
   "metadata": {
    "heading_collapsed": "true",
    "tags": []
   },
   "source": [
    "## Experiment 1.  `use_missing_indicator_variables`"
   ]
  },
  {
   "cell_type": "code",
   "execution_count": null,
   "id": "f1505592",
   "metadata": {
    "scrolled": true,
    "tags": []
   },
   "outputs": [],
   "source": [
    "approach = 'xgboost'\n",
    "\n",
    "random_states = np.random.randint(0, 1000, K)\n",
    "for random_state in random_states:\n",
    "    for use_missing_indicator_variables in [False, USE_MISSING_INDICATOR_PREDICTORS]:\n",
    "\n",
    "        df =  pd.read_csv(AUTISM_DATA_PATH)\n",
    "\n",
    "        data = Dataset(df=df, \n",
    "                       missing_data_handling='without', \n",
    "                       imputation_method='without', \n",
    "                       sampling_method='without',\n",
    "                       outcome_column='diagnosis',\n",
    "                        features_name = deepcopy(DEFAULT_PREDICTORS), \n",
    "                        scale_data=False,\n",
    "                        use_missing_indicator_variables=use_missing_indicator_variables, \n",
    "                       verbosity=1,\n",
    "                       scenario='multimodal_2023_regular',#'papers',\n",
    "                       proportion_train=1)\n",
    "\n",
    "        exp = Experiments(data.dataset_name,\n",
    "                          dataset=data, \n",
    "                          approach=approach, \n",
    "                          previous_experiment=None,        \n",
    "                          debug=False, \n",
    "                          experiment_name = 'use_Z',\n",
    "                           model_hyperparameters=xgboost_hyperparameters,\n",
    "                          verbosity=1, \n",
    "                          experiment_folder_name='8_December', \n",
    "                          save_experiment=True)\n",
    "        exp.fit_predict(num_cv=10, random_state=random_state)\n",
    "\n",
    "        display(exp.performances_df)\n"
   ]
  },
  {
   "cell_type": "markdown",
   "id": "f8449568",
   "metadata": {
    "heading_collapsed": "true",
    "tags": []
   },
   "source": [
    "## Experiment 2  `scale_data`"
   ]
  },
  {
   "cell_type": "code",
   "execution_count": null,
   "id": "d9c6f706",
   "metadata": {
    "scrolled": true,
    "tags": []
   },
   "outputs": [],
   "source": [
    "random_states = np.random.randint(0, 1000, K)\n",
    "for random_state in random_states:\n",
    "    for scale_data in [True, False]:\n",
    "\n",
    "\n",
    "        df =  pd.read_csv(AUTISM_DATA_PATH)\n",
    "\n",
    "        data = Dataset(df=df, \n",
    "                       missing_data_handling='without', \n",
    "                       imputation_method='without', \n",
    "                       sampling_method='without',\n",
    "                       outcome_column='diagnosis',\n",
    "                        features_name = deepcopy(DEFAULT_PREDICTORS), \n",
    "                        scale_data=scale_data,\n",
    "                        use_missing_indicator_variables=False, \n",
    "                       verbosity=0,\n",
    "                       scenario='multimodal_2023_regular',#'papers',\n",
    "                       proportion_train=1)\n",
    "\n",
    "        exp = Experiments(data.dataset_name,\n",
    "                          dataset=data, \n",
    "                          approach=approach, \n",
    "                          previous_experiment=None,        \n",
    "                          debug=False, \n",
    "                          model_hyperparameters=xgboost_hyperparameters,\n",
    "                          experiment_name = 'Scale Data',\n",
    "                          experiment_folder_name='8_December', \n",
    "                          save_experiment=True)\n",
    "        exp.fit_predict(num_cv=10, random_state=random_state)\n",
    "        display(exp.performances_df)"
   ]
  },
  {
   "cell_type": "markdown",
   "id": "b49df56c",
   "metadata": {
    "heading_collapsed": "true",
    "tags": []
   },
   "source": [
    "## Experiment 3. `Imputation approach`"
   ]
  },
  {
   "cell_type": "code",
   "execution_count": null,
   "id": "a56c1116",
   "metadata": {},
   "outputs": [],
   "source": [
    "random_states = np.random.randint(0, 1000, K)\n",
    "for random_state in random_states:\n",
    "\n",
    "    for imputation_method in ['without','mice', 'knn', 'mean', 'constant']:\n",
    "\n",
    "        df =  pd.read_csv(AUTISM_DATA_PATH)\n",
    "\n",
    "        data = Dataset(df=df, \n",
    "                       missing_data_handling='imputation',\n",
    "                       imputation_method=imputation_method,\n",
    "                       sampling_method='without',\n",
    "                       scenario = 'multimodal_2023_regular', \n",
    "                       features_name = deepcopy(DEFAULT_PREDICTORS),\n",
    "                       scale_data=False, \n",
    "                       use_missing_indicator_variables=False,\n",
    "                       verbosity=1, \n",
    "                       proportion_train=1)\n",
    "\n",
    "        exp = Experiments(data.dataset_name,\n",
    "                          dataset=data, \n",
    "                          approach=approach, \n",
    "                          previous_experiment=None,        \n",
    "                          debug=False, \n",
    "                          model_hyperparameters=xgboost_hyperparameters,\n",
    "                          experiment_name = 'Imputation',\n",
    "                          verbosity=1, \n",
    "                          experiment_folder_name='8_December', \n",
    "                          save_experiment=True)\n",
    "    exp.fit_predict(num_cv=10, random_state=random_state)\n",
    "    display(exp.performances_df)"
   ]
  },
  {
   "cell_type": "markdown",
   "id": "7074db9c",
   "metadata": {
    "heading_collapsed": "true",
    "tags": []
   },
   "source": [
    "## Experiment 4. `Sampling approach`"
   ]
  },
  {
   "cell_type": "code",
   "execution_count": null,
   "id": "17811b34",
   "metadata": {},
   "outputs": [],
   "source": [
    "xgboost_hyperparameters_experiment = deepcopy(xgboost_hyperparameters)\n",
    "random_states = np.random.randint(0, 1000, K)\n",
    "\n",
    "for random_state in random_states:\n",
    "\n",
    "    for sampling_method in ['without', 'vanilla', 'smote', 'scale_pos_weight']:\n",
    "\n",
    "        if sampling_method == 'scale_pos_weight':\n",
    "\n",
    "            xgboost_hyperparameters_experiment['scale_pos_weight'] = True\n",
    "        else:\n",
    "            xgboost_hyperparameters_experiment['scale_pos_weight'] = False\n",
    "\n",
    "        if sampling_method == 'smote':\n",
    "            missing_data_handling='imputation'\n",
    "            imputation_method='constant'\n",
    "        else:\n",
    "            missing_data_handling='without'\n",
    "            imputation_method='without'\n",
    "\n",
    "\n",
    "\n",
    "        df =  pd.read_csv(AUTISM_DATA_PATH)\n",
    "\n",
    "        data = Dataset(df=df, \n",
    "                       missing_data_handling=missing_data_handling,\n",
    "                       imputation_method=imputation_method,\n",
    "                       sampling_method=sampling_method,\n",
    "                       scenario = 'multimodal_2023_regular', \n",
    "                       features_name = deepcopy(DEFAULT_PREDICTORS),\n",
    "                       scale_data=False, \n",
    "                       use_missing_indicator_variables=False,\n",
    "                       verbosity=1, \n",
    "                       proportion_train=1)\n",
    "\n",
    "        exp = Experiments(data.dataset_name,\n",
    "                          dataset=data, \n",
    "                          approach=approach, \n",
    "                          previous_experiment=None,        \n",
    "                          debug=False, \n",
    "                          model_hyperparameters=xgboost_hyperparameters_experiment,\n",
    "                          experiment_name = 'Sampling',\n",
    "                          verbosity=1, \n",
    "                          experiment_folder_name='8_December', \n",
    "                          save_experiment=True)\n",
    "        exp.fit_predict(num_cv=10, random_state=random_state)\n",
    "        display(exp.performances_df)"
   ]
  },
  {
   "cell_type": "markdown",
   "id": "20955ca3",
   "metadata": {
    "heading_collapsed": "true",
    "tags": []
   },
   "source": [
    "## Experiment 5. `n_estimators`"
   ]
  },
  {
   "cell_type": "code",
   "execution_count": null,
   "id": "c3151a15",
   "metadata": {
    "scrolled": true,
    "tags": []
   },
   "outputs": [],
   "source": [
    "xgboost_hyperparameters_experiment = deepcopy(xgboost_hyperparameters)\n",
    "random_states = np.random.randint(0, 1000, K)\n",
    "\n",
    "for random_state in random_states:\n",
    "\n",
    "    for n_estimators in [5, 10, 25, 50, 75, 100, 200, 500, 1000]:\n",
    "\n",
    "        xgboost_hyperparameters_experiment['n_estimators'] = n_estimators\n",
    "\n",
    "\n",
    "        df =  pd.read_csv(AUTISM_DATA_PATH)\n",
    "\n",
    "        data = Dataset(df=df, \n",
    "                       missing_data_handling='without',\n",
    "                       imputation_method='without',\n",
    "                       sampling_method='without',\n",
    "                       scenario = 'multimodal_2023_regular', \n",
    "                       features_name = deepcopy(DEFAULT_PREDICTORS),\n",
    "                       scale_data=False, \n",
    "                       use_missing_indicator_variables=False,\n",
    "                       verbosity=1, \n",
    "                       proportion_train=1)\n",
    "\n",
    "        exp = Experiments(data.dataset_name,\n",
    "                          dataset=data, \n",
    "                          approach=approach, \n",
    "                          previous_experiment=None,        \n",
    "                          debug=False, \n",
    "                          model_hyperparameters=xgboost_hyperparameters_experiment,\n",
    "                          experiment_name = 'n_estimators',\n",
    "                          verbosity=1, \n",
    "                          experiment_folder_name='8_December', \n",
    "                          save_experiment=True)\n",
    "        exp.fit_predict(num_cv=10, random_state=random_state)\n",
    "    display(exp.performances_df)"
   ]
  },
  {
   "cell_type": "markdown",
   "id": "7160d17a",
   "metadata": {
    "heading_collapsed": "true",
    "tags": []
   },
   "source": [
    "## Experiment 6. `Depth`"
   ]
  },
  {
   "cell_type": "code",
   "execution_count": null,
   "id": "e997efc0",
   "metadata": {
    "scrolled": true,
    "tags": []
   },
   "outputs": [],
   "source": [
    "xgboost_hyperparameters_experiment = deepcopy(xgboost_hyperparameters)\n",
    "random_states = np.random.randint(0, 1000, K)\n",
    "\n",
    "for random_state in random_states:\n",
    "\n",
    "    for max_depth in [1, 2, 3, 4, 5, 6, 7, 8, 9, 10, 11]:\n",
    "\n",
    "        xgboost_hyperparameters_experiment['max_depth'] = max_depth\n",
    "\n",
    "\n",
    "        df =  pd.read_csv(AUTISM_DATA_PATH)\n",
    "\n",
    "        data = Dataset(df=df, \n",
    "                       missing_data_handling='without',\n",
    "                       imputation_method='without',\n",
    "                       sampling_method='without',\n",
    "                       scenario = 'multimodal_2023_regular', \n",
    "                       features_name = deepcopy(DEFAULT_PREDICTORS),\n",
    "                       scale_data=False, \n",
    "                       use_missing_indicator_variables=False,\n",
    "                       verbosity=1, \n",
    "                       proportion_train=1)\n",
    "\n",
    "        exp = Experiments(data.dataset_name,\n",
    "                          dataset=data, \n",
    "                          approach=approach, \n",
    "                          previous_experiment=None,        \n",
    "                          debug=False, \n",
    "                          model_hyperparameters=xgboost_hyperparameters_experiment,\n",
    "                          experiment_name = 'max_depth',\n",
    "                          verbosity=0, \n",
    "                          experiment_folder_name='8_December', \n",
    "                          save_experiment=True)\n",
    "        exp.fit_predict(num_cv=10, random_state=random_state)\n",
    "        display(exp.performances_df)"
   ]
  },
  {
   "cell_type": "markdown",
   "id": "1e79efb3",
   "metadata": {
    "heading_collapsed": "true",
    "tags": []
   },
   "source": [
    "## Experiment 7. `gamma`"
   ]
  },
  {
   "cell_type": "code",
   "execution_count": null,
   "id": "c23a2c2a",
   "metadata": {
    "scrolled": true,
    "tags": []
   },
   "outputs": [],
   "source": [
    "xgboost_hyperparameters_experiment = deepcopy(xgboost_hyperparameters)\n",
    "random_states = np.random.randint(0, 1000, K)\n",
    "\n",
    "for random_state in random_states:\n",
    "\n",
    "    for gamma in [0, 0.05, 0.1, 0.15, 0.2, 0.25, 0.3, 0.35, 0.4]:\n",
    "\n",
    "        xgboost_hyperparameters_experiment['gamma'] = gamma\n",
    "\n",
    "\n",
    "        df =  pd.read_csv(AUTISM_DATA_PATH)\n",
    "\n",
    "        data = Dataset(df=df, \n",
    "                       missing_data_handling='without',\n",
    "                       imputation_method='without',\n",
    "                       sampling_method='without',\n",
    "                       scenario = 'multimodal_2023_regular', \n",
    "                       features_name = deepcopy(DEFAULT_PREDICTORS),\n",
    "                       scale_data=False, \n",
    "                       use_missing_indicator_variables=False,\n",
    "                       verbosity=1, \n",
    "                       proportion_train=1)\n",
    "\n",
    "        exp = Experiments(data.dataset_name,\n",
    "                          dataset=data, \n",
    "                          approach=approach, \n",
    "                          previous_experiment=None,        \n",
    "                          debug=False, \n",
    "                          model_hyperparameters=xgboost_hyperparameters_experiment,\n",
    "                          experiment_name = 'gamma',\n",
    "                          verbosity=0, \n",
    "                          experiment_folder_name='8_December', \n",
    "                          save_experiment=True)\n",
    "        exp.fit_predict(num_cv=10, random_state=random_state)\n",
    "        display(exp.performances_df)"
   ]
  },
  {
   "cell_type": "markdown",
   "id": "80a563b3",
   "metadata": {
    "heading_collapsed": "true",
    "tags": []
   },
   "source": [
    "## Experiment 8. `reg_lambda`"
   ]
  },
  {
   "cell_type": "code",
   "execution_count": null,
   "id": "2760d016",
   "metadata": {
    "scrolled": true,
    "tags": []
   },
   "outputs": [],
   "source": [
    "xgboost_hyperparameters_experiment = deepcopy(xgboost_hyperparameters)\n",
    "random_states = np.random.randint(0, 1000, K)\n",
    "\n",
    "for random_state in random_states:\n",
    "\n",
    "    for reg_lambda in [0, 0.05, 0.1, 0.15, 0.2, 0.25, 0.3, 0.35, 0.4]:\n",
    "\n",
    "        xgboost_hyperparameters_experiment['reg_lambda'] = reg_lambda\n",
    "\n",
    "\n",
    "        df =  pd.read_csv(AUTISM_DATA_PATH)\n",
    "\n",
    "        data = Dataset(df=df, \n",
    "                       missing_data_handling='without',\n",
    "                       imputation_method='without',\n",
    "                       sampling_method='without',\n",
    "                       scenario = 'multimodal_2023_regular', \n",
    "                       features_name = deepcopy(DEFAULT_PREDICTORS),\n",
    "                       scale_data=False, \n",
    "                       use_missing_indicator_variables=False,\n",
    "                       verbosity=1, \n",
    "                       proportion_train=1)\n",
    "\n",
    "        exp = Experiments(data.dataset_name,\n",
    "                          dataset=data, \n",
    "                          approach=approach, \n",
    "                          previous_experiment=None,        \n",
    "                          debug=False, \n",
    "                          model_hyperparameters=xgboost_hyperparameters_experiment,\n",
    "                          experiment_name = 'reg_lambda',\n",
    "                          verbosity=0, \n",
    "                          experiment_folder_name='8_December', \n",
    "                          save_experiment=True)\n",
    "        exp.fit_predict(num_cv=10, random_state=random_state)\n",
    "        display(exp.performances_df)"
   ]
  },
  {
   "cell_type": "markdown",
   "id": "fdedb863",
   "metadata": {
    "heading_collapsed": "true",
    "tags": []
   },
   "source": [
    "## Experiment 9. `learning_rate`"
   ]
  },
  {
   "cell_type": "code",
   "execution_count": null,
   "id": "03705787",
   "metadata": {
    "scrolled": true,
    "tags": []
   },
   "outputs": [],
   "source": [
    "approach = 'xgboost'\n",
    "xgboost_hyperparameters_experiment = deepcopy(xgboost_hyperparameters)\n",
    "random_states = np.random.randint(0, 1000, K)\n",
    "\n",
    "for random_state in random_states:\n",
    "\n",
    "    for learning_rate in [0.01, 0.05, 0.1, 0.15, 0.2, 0.25, 0.3, 0.35, 0.4]:\n",
    "\n",
    "        xgboost_hyperparameters_experiment['learning_rate'] = learning_rate\n",
    "\n",
    "\n",
    "        df =  pd.read_csv(AUTISM_DATA_PATH)\n",
    "\n",
    "        data = Dataset(df=df, \n",
    "                       missing_data_handling='without',\n",
    "                       imputation_method='without',\n",
    "                       sampling_method='without',\n",
    "                       scenario = 'multimodal_2023_regular', \n",
    "                       features_name = deepcopy(DEFAULT_PREDICTORS),\n",
    "                       scale_data=False, \n",
    "                       use_missing_indicator_variables=False,\n",
    "                       verbosity=1, \n",
    "                       proportion_train=1)\n",
    "\n",
    "        exp = Experiments(data.dataset_name,\n",
    "                          dataset=data, \n",
    "                          approach=approach, \n",
    "                          previous_experiment=None,        \n",
    "                          debug=False, \n",
    "                          model_hyperparameters=xgboost_hyperparameters_experiment,\n",
    "                          experiment_name = 'learning_rate',\n",
    "                          verbosity=1, \n",
    "                          experiment_folder_name='8_December', \n",
    "                          save_experiment=True)\n",
    "        exp.fit_predict(num_cv=10, random_state=random_state)\n",
    "        display(exp.performances_df)"
   ]
  },
  {
   "cell_type": "markdown",
   "id": "ce001c2a",
   "metadata": {
    "heading_collapsed": "true",
    "tags": []
   },
   "source": [
    "## Custom parameters search in light of the performances results "
   ]
  },
  {
   "cell_type": "code",
   "execution_count": null,
   "id": "2233c97b",
   "metadata": {},
   "outputs": [],
   "source": [
    "K=25"
   ]
  },
  {
   "cell_type": "code",
   "execution_count": null,
   "id": "0c197735",
   "metadata": {
    "scrolled": true,
    "tags": []
   },
   "outputs": [],
   "source": [
    "%%capture\n",
    "xgboost_hyperparameters = {'scale_pos_weight':True,\n",
    "                            'max_depth' : 3,\n",
    "                            'learning_rate' : 0.15, \n",
    "                            'gamma': 0.1,\n",
    "                            'n_estimators': 100,\n",
    "                            'min_child_weight': 1,\n",
    "                            'reg_lambda': 0.1}\n",
    "\n",
    "results_multiple = pd.DataFrame(columns = exp.performances_df.columns)\n",
    "\n",
    "random_states = np.random.randint(0, 1000, K)\n",
    "\n",
    "for random_state in random_states:\n",
    "    df =  pd.read_csv(AUTISM_DATA_PATH)\n",
    "\n",
    "    data = Dataset(df=df, \n",
    "                   missing_data_handling='without',\n",
    "                   imputation_method='without',\n",
    "                   sampling_method='without',\n",
    "                   scenario = 'multimodal_2023_regular', \n",
    "                   features_name = deepcopy(DEFAULT_PREDICTORS_BY_TYPES['All']),\n",
    "                   scale_data=False, \n",
    "                   use_missing_indicator_variables=USE_MISSING_INDICATOR_PREDICTORS,\n",
    "                   verbosity=1, \n",
    "                   proportion_train=1)\n",
    "\n",
    "    exp = Experiments(data.dataset_name,\n",
    "                      dataset=data, \n",
    "                      approach='xgboost', \n",
    "                      previous_experiment=None,        \n",
    "                      debug=False, \n",
    "                      experiment_folder_name='8_December', \n",
    "                      model_hyperparameters=xgboost_hyperparameters,\n",
    "                      experiment_name = 'Multimodal All',\n",
    "                      verbosity=1, \n",
    "                      save_experiment=False)\n",
    "\n",
    "    exp.fit_predict(num_cv=10, random_state=random_state)\n",
    "    \n",
    "    display(exp.performances_df)\n",
    "        \n",
    "    results_multiple = results_multiple.append(exp.performances_df)"
   ]
  },
  {
   "cell_type": "code",
   "execution_count": null,
   "id": "c8a213dd",
   "metadata": {},
   "outputs": [],
   "source": [
    "pd.DataFrame(results_multiple.mean()).transpose()"
   ]
  },
  {
   "cell_type": "code",
   "execution_count": null,
   "id": "90926bab",
   "metadata": {
    "tags": []
   },
   "outputs": [],
   "source": [
    "%%capture\n",
    "xgboost_hyperparameters = {'scale_pos_weight':True,\n",
    "                            'max_depth' : 3,\n",
    "                            'learning_rate' : 0.25, \n",
    "                            'gamma': 0.1,\n",
    "                            'n_estimators': 100,\n",
    "                            'min_child_weight': 1,\n",
    "                            'reg_lambda': 0.1}\n",
    "\n",
    "results_multiple_lr25 = pd.DataFrame(columns = exp.performances_df.columns)\n",
    "\n",
    "random_states = np.random.randint(0, 1000, K)\n",
    "\n",
    "for random_state in random_states:\n",
    "    df =  pd.read_csv(AUTISM_DATA_PATH)\n",
    "\n",
    "    data = Dataset(df=df, \n",
    "                   missing_data_handling='without',\n",
    "                   imputation_method='without',\n",
    "                   sampling_method='without',\n",
    "                   scenario = 'multimodal_2023_regular', \n",
    "                   features_name = deepcopy(DEFAULT_PREDICTORS_BY_TYPES['All']),\n",
    "                   scale_data=False, \n",
    "                   use_missing_indicator_variables=USE_MISSING_INDICATOR_PREDICTORS,\n",
    "                   verbosity=1, \n",
    "                   proportion_train=1)\n",
    "\n",
    "    exp = Experiments(data.dataset_name,\n",
    "                      dataset=data, \n",
    "                      approach='xgboost', \n",
    "                      previous_experiment=None,        \n",
    "                      debug=False, \n",
    "                      experiment_folder_name='8_December', \n",
    "                      model_hyperparameters=xgboost_hyperparameters,\n",
    "                      experiment_name = 'Multimodal All',\n",
    "                      verbosity=1, \n",
    "                      save_experiment=False)\n",
    "\n",
    "    exp.fit_predict(num_cv=10, random_state=random_state)\n",
    "    \n",
    "    display(exp.performances_df)\n",
    "        \n",
    "    results_multiple_lr25 = results_multiple_lr25.append(exp.performances_df)"
   ]
  },
  {
   "cell_type": "code",
   "execution_count": null,
   "id": "afa16db8",
   "metadata": {
    "tags": []
   },
   "outputs": [],
   "source": [
    "pd.DataFrame(results_multiple_lr25.mean()).transpose()"
   ]
  },
  {
   "cell_type": "code",
   "execution_count": null,
   "id": "ff200f50",
   "metadata": {
    "tags": []
   },
   "outputs": [],
   "source": [
    "%%capture\n",
    "xgboost_hyperparameters = {'scale_pos_weight':True,\n",
    "                            'max_depth' : 3,\n",
    "                            'learning_rate' : 0.25, \n",
    "                            'gamma': 0,\n",
    "                            'n_estimators': 100,\n",
    "                            'min_child_weight': 1,\n",
    "                            'reg_lambda': 0}\n",
    "\n",
    "results_multiple_lr25_noreg = pd.DataFrame(columns = exp.performances_df.columns)\n",
    "\n",
    "random_states = np.random.randint(0, 1000, K)\n",
    "\n",
    "for random_state in random_states:\n",
    "    df =  pd.read_csv(AUTISM_DATA_PATH)\n",
    "\n",
    "    data = Dataset(df=df, \n",
    "                   missing_data_handling='without',\n",
    "                   imputation_method='without',\n",
    "                   sampling_method='without',\n",
    "                   scenario = 'multimodal_2023_regular', \n",
    "                   features_name = deepcopy(DEFAULT_PREDICTORS_BY_TYPES['All']),\n",
    "                   scale_data=False, \n",
    "                   use_missing_indicator_variables=USE_MISSING_INDICATOR_PREDICTORS,\n",
    "                   verbosity=1, \n",
    "                   proportion_train=1)\n",
    "\n",
    "    exp = Experiments(data.dataset_name,\n",
    "                      dataset=data, \n",
    "                      approach='xgboost', \n",
    "                      previous_experiment=None,        \n",
    "                      debug=False, \n",
    "                      experiment_folder_name='8_December', \n",
    "                      model_hyperparameters=xgboost_hyperparameters,\n",
    "                      experiment_name = 'Multimodal All',\n",
    "                      verbosity=1, \n",
    "                      save_experiment=False)\n",
    "\n",
    "    exp.fit_predict(num_cv=10, random_state=random_state)\n",
    "    \n",
    "    display(exp.performances_df)\n",
    "        \n",
    "    results_multiple_lr25_noreg = results_multiple_lr25_noreg.append(exp.performances_df)"
   ]
  },
  {
   "cell_type": "code",
   "execution_count": null,
   "id": "f651e108",
   "metadata": {},
   "outputs": [],
   "source": [
    "pd.DataFrame(results_multiple_lr25_noreg.mean()).transpose()"
   ]
  },
  {
   "cell_type": "code",
   "execution_count": null,
   "id": "6f4db5df",
   "metadata": {},
   "outputs": [],
   "source": []
  },
  {
   "cell_type": "code",
   "execution_count": null,
   "id": "564b18e2",
   "metadata": {
    "tags": []
   },
   "outputs": [],
   "source": [
    "%%capture\n",
    "xgboost_hyperparameters = {'scale_pos_weight':True,\n",
    "                            'max_depth' : 5,\n",
    "                            'learning_rate' : 0.25, \n",
    "                            'gamma': 0.1,\n",
    "                            'n_estimators': 200,\n",
    "                            'min_child_weight': 1,\n",
    "                            'reg_lambda': 0.1}\n",
    "\n",
    "results_multiple_lr25_reg = pd.DataFrame(columns = exp.performances_df.columns)\n",
    "\n",
    "random_states = np.random.randint(0, 1000, K)\n",
    "\n",
    "for random_state in random_states:\n",
    "    df =  pd.read_csv(AUTISM_DATA_PATH)\n",
    "\n",
    "    data = Dataset(df=df, \n",
    "                   missing_data_handling='without',\n",
    "                   imputation_method='without',\n",
    "                   sampling_method='without',\n",
    "                   scenario = 'multimodal_2023_regular', \n",
    "                   features_name = deepcopy(DEFAULT_PREDICTORS_BY_TYPES['All']),\n",
    "                   scale_data=False, \n",
    "                   use_missing_indicator_variables=USE_MISSING_INDICATOR_PREDICTORS,\n",
    "                   verbosity=1, \n",
    "                   proportion_train=1)\n",
    "\n",
    "    exp = Experiments(data.dataset_name,\n",
    "                      dataset=data, \n",
    "                      approach='xgboost', \n",
    "                      previous_experiment=None,        \n",
    "                      debug=False, \n",
    "                      experiment_folder_name='8_December', \n",
    "                      model_hyperparameters=xgboost_hyperparameters,\n",
    "                      experiment_name = 'Multimodal All',\n",
    "                      verbosity=1, \n",
    "                      save_experiment=False)\n",
    "\n",
    "    exp.fit_predict(num_cv=10, random_state=random_state)\n",
    "    \n",
    "    display(exp.performances_df)\n",
    "        \n",
    "    results_multiple_lr25_reg = results_multiple_lr25_reg.append(exp.performances_df)"
   ]
  },
  {
   "cell_type": "code",
   "execution_count": null,
   "id": "73eeaa33",
   "metadata": {},
   "outputs": [],
   "source": [
    "pd.DataFrame(results_multiple_lr25_reg.mean()).transpose()"
   ]
  },
  {
   "cell_type": "code",
   "execution_count": null,
   "id": "724322ad",
   "metadata": {
    "tags": []
   },
   "outputs": [],
   "source": [
    "%%capture\n",
    "xgboost_hyperparameters = {'scale_pos_weight':True,#np.sum(data.y_train==0)/np.sum(data.y_train==1), \n",
    "                            'max_depth' : 3,\n",
    "                            'learning_rate' : 0.15, \n",
    "                            'gamma': 0.1,\n",
    "                            'n_estimators': 100,\n",
    "                            'min_child_weight': 1,\n",
    "                            'reg_lambda': 0.1}\n",
    "\n",
    "#results_multiple_lr25_reg = pd.DataFrame(columns = exp.performances_df.columns)\n",
    "\n",
    "random_states = np.random.randint(0, 1000, K)\n",
    "\n",
    "for random_state in random_states[-10:]:\n",
    "    df =  pd.read_csv(AUTISM_DATA_PATH)\n",
    "\n",
    "    data = Dataset(df=df, \n",
    "                   missing_data_handling='imputation',\n",
    "                   imputation_method='constant',\n",
    "                   sampling_method='without',\n",
    "                   scenario = 'multimodal_2023_regular', \n",
    "                   features_name = deepcopy(DEFAULT_PREDICTORS_BY_TYPES['All']),\n",
    "                   scale_data=False, \n",
    "                   use_missing_indicator_variables=USE_MISSING_INDICATOR_PREDICTORS,\n",
    "                   verbosity=1, \n",
    "                   proportion_train=1)\n",
    "\n",
    "    exp = Experiments(data.dataset_name,\n",
    "                      dataset=data, \n",
    "                      approach='xgboost', \n",
    "                      previous_experiment=None,        \n",
    "                      debug=False, \n",
    "                      experiment_folder_name='8_December', \n",
    "                      model_hyperparameters=xgboost_hyperparameters,\n",
    "                      experiment_name = 'Multimodal All',\n",
    "                      verbosity=1, \n",
    "                      save_experiment=False)\n",
    "\n",
    "    exp.fit_predict(num_cv=10, random_state=random_state)\n",
    "    \n",
    "    display(exp.performances_df)\n",
    "        \n",
    "    results_multiple_lr25_reg = results_multiple_lr25_reg.append(exp.performances_df)"
   ]
  },
  {
   "cell_type": "code",
   "execution_count": null,
   "id": "8da870db",
   "metadata": {},
   "outputs": [],
   "source": [
    "pd.DataFrame(results_multiple_lr25_reg.mean()).transpose()"
   ]
  },
  {
   "cell_type": "markdown",
   "id": "e4e028a7",
   "metadata": {
    "tags": []
   },
   "source": [
    "## Experiment 10. Test with all set of features"
   ]
  },
  {
   "cell_type": "code",
   "execution_count": null,
   "id": "7f82d63e",
   "metadata": {
    "scrolled": true,
    "tags": []
   },
   "outputs": [],
   "source": [
    "use_weight = False\n",
    "if use_weight:\n",
    "    weighted_confidence_score = np.load(os.path.join(DATA_DIR, 'multimodal_paper', 'weight_multimodal.npy'))\n",
    "else:\n",
    "    weighted_confidence_score = None\n",
    "    \n",
    "K = 100\n",
    "\n",
    "random_states = np.random.randint(0, 1000, K)\n",
    "\n",
    "for random_state in random_states:\n",
    "    for feature_scenario in DEFAULT_PREDICTORS_BY_TYPES.keys():\n",
    "\n",
    "        df =  pd.read_csv(AUTISM_DATA_PATH)\n",
    "\n",
    "        data = Dataset(df=df, \n",
    "                       missing_data_handling='imputation',\n",
    "                       imputation_method='constant',\n",
    "                       sampling_method='without',\n",
    "                       scenario = 'multimodal_2023_regular', \n",
    "                       features_name = deepcopy(DEFAULT_PREDICTORS_BY_TYPES[feature_scenario]),\n",
    "                       scale_data=False, \n",
    "                       use_missing_indicator_variables=False, #USE_MISSING_INDICATOR_PREDICTORS,\n",
    "                       verbosity=0, \n",
    "                       proportion_train=1)\n",
    "\n",
    "        exp = Experiments(data.dataset_name,\n",
    "                          dataset=data, \n",
    "                          approach='xgboost', \n",
    "                          previous_experiment=None,        \n",
    "                          debug=False, \n",
    "                          experiment_folder_name='Multimodal_paper_final_cva_experiment', \n",
    "                          model_hyperparameters=xgboost_hyperparameters,\n",
    "                          experiment_name = 'Multimodal {}'.format(feature_scenario),\n",
    "                          verbosity=0, \n",
    "                          save_experiment=True)\n",
    "\n",
    "        exp.fit_predict(num_cv=5, sample_weight=weighted_confidence_score, random_state=random_state)\n",
    "        #display(exp.performances_df)\n",
    "        \n",
    "print(\"Done\")"
   ]
  },
  {
   "cell_type": "markdown",
   "id": "4a9324f3",
   "metadata": {
    "heading_collapsed": "true",
    "tags": []
   },
   "source": [
    "# Experiment modifying the Postural Sway (as it is unexpected adding it decrease the perfromaces)"
   ]
  },
  {
   "cell_type": "code",
   "execution_count": 87,
   "id": "791f9044",
   "metadata": {},
   "outputs": [],
   "source": [
    "DEFAULT_PREDICTORS = [# GAZE RELATED\n",
    "                 'mean_gaze_percent_right', #aggregated\n",
    "                 'gaze_silhouette_score', #aggregated\n",
    "                 'FP_gaze_speech_correlation',\n",
    "    \n",
    "                # NAME CALL RELATED\n",
    "                 'proportion_of_name_call_responses',\n",
    "                 'average_response_to_name_delay',\n",
    "\n",
    "    \n",
    "                # POSTURAL SWAY RELATED\n",
    "                # 'S_postural_sway',  #aggregated\n",
    "                # 'NS_postural_sway',  #aggregated\n",
    "                 \n",
    "                # 'S_postural_sway_complexity', \n",
    "                # 'NS_postural_sway_complexity',    \n",
    "    \n",
    "                 \n",
    "                 # Facing Forward\n",
    "                 'S_facing_forward', \n",
    "                 'NS_facing_forward', \n",
    "                 \n",
    "                 # Facial complexity\n",
    "                 'S_eyebrows_complexity', \n",
    "                 'NS_eyebrows_complexity', \n",
    "                 'S_mouth_complexity', \n",
    "                 'NS_mouth_complexity',\n",
    "                 \n",
    "                # TOUCH RELATED\n",
    "                'pop_rate', 'std_error', 'average_length', 'average_force_applied']\n",
    "                #'std_error','number_of_touches','number_of_target','average_error']\n",
    "\n",
    "    \n",
    "DEFAULT_PREDICTORS_BY_TYPES = {'All': DEFAULT_PREDICTORS,\n",
    "                               'All - PosturalSway': ['mean_gaze_percent_right', 'gaze_silhouette_score', 'FP_gaze_speech_correlation',\n",
    "                                              'proportion_of_name_call_responses','average_response_to_name_delay',\n",
    "                                               'pop_rate', 'std_error', 'average_length', 'average_force_applied',\n",
    "                                              'S_eyebrows_complexity', 'NS_eyebrows_complexity',\n",
    "                                                'S_mouth_complexity', 'NS_mouth_complexity',\n",
    "                                                'S_facing_forward', 'NS_facing_forward']\n",
    "                               \n",
    "                              }"
   ]
  },
  {
   "cell_type": "code",
   "execution_count": 98,
   "id": "21138427",
   "metadata": {},
   "outputs": [],
   "source": [
    "from itertools import chain, combinations\n",
    "\n",
    "stuff = ['S_postural_sway',  #aggregated\n",
    "                 'NS_postural_sway',  #aggregated\n",
    "                 'S_postural_sway_derivative',\n",
    "                 'NS_postural_sway_derivative',\n",
    "                 \n",
    "                 'S_postural_sway_complexity', \n",
    "                 'NS_postural_sway_complexity']\n",
    "def all_subsets(ss):\n",
    "    return chain(*map(lambda x: combinations(ss, x), range(1, len(ss)+1)))\n",
    "\n",
    "\n",
    "    \n",
    "    \n"
   ]
  },
  {
   "cell_type": "code",
   "execution_count": 108,
   "id": "ab5afdb0",
   "metadata": {},
   "outputs": [
    {
     "name": "stdout",
     "output_type": "stream",
     "text": [
      "('S_postural_sway_derivative',)\n"
     ]
    }
   ],
   "source": [
    "\n",
    "random_states = np.random.randint(0, 1000, K)\n",
    "for i, subset in enumerate(all_subsets(stuff)):\n",
    "    if i == 2:\n",
    "        print(subset)"
   ]
  },
  {
   "cell_type": "code",
   "execution_count": 112,
   "id": "486f5f6e",
   "metadata": {},
   "outputs": [
    {
     "data": {
      "text/plain": [
       "['mean_gaze_percent_right',\n",
       " 'gaze_silhouette_score',\n",
       " 'FP_gaze_speech_correlation',\n",
       " 'proportion_of_name_call_responses',\n",
       " 'average_response_to_name_delay',\n",
       " 'S_postural_sway',\n",
       " 'NS_postural_sway',\n",
       " 'S_postural_sway_derivative',\n",
       " 'NS_postural_sway_derivative',\n",
       " 'S_postural_sway_complexity',\n",
       " 'NS_postural_sway_complexity',\n",
       " 'S_facing_forward',\n",
       " 'NS_facing_forward',\n",
       " 'S_eyebrows_complexity',\n",
       " 'NS_eyebrows_complexity',\n",
       " 'S_mouth_complexity',\n",
       " 'NS_mouth_complexity',\n",
       " 'pop_rate',\n",
       " 'std_error',\n",
       " 'average_length',\n",
       " 'average_force_applied',\n",
       " 'S_postural_sway',\n",
       " 'NS_postural_sway']"
      ]
     },
     "execution_count": 112,
     "metadata": {},
     "output_type": "execute_result"
    }
   ],
   "source": [
    "DEFAULT_PREDICTORS_BY_TYPES['All'] + list(subset)"
   ]
  },
  {
   "cell_type": "code",
   "execution_count": 119,
   "id": "d9ba8f9b",
   "metadata": {
    "scrolled": true,
    "tags": []
   },
   "outputs": [
    {
     "name": "stdout",
     "output_type": "stream",
     "text": [
      "Done\n"
     ]
    }
   ],
   "source": [
    "xgboost_hyperparameters = {'scale_pos_weight':True,#np.sum(data.y_train==0)/np.sum(data.y_train==1), \n",
    "                            'max_depth' : 3,\n",
    "                            'learning_rate' : 0.3, \n",
    "                            'gamma': 1,\n",
    "                            'n_estimators': 100,\n",
    "                            'min_child_weight': 1,\n",
    "                            'reg_lambda': 1}\n",
    "\n",
    "use_weight = True\n",
    "if use_weight:\n",
    "    weighted_confidence_score = np.load(os.path.join(DATA_DIR, 'multimodal_paper', 'weight_multimodal.npy'))\n",
    "else:\n",
    "    weighted_confidence_score = None\n",
    "    \n",
    "K = 25\n",
    "j=60\n",
    "random_states = np.random.randint(0, 1000, K)\n",
    "#for i, subset in enumerate(all_subsets(stuff)):\n",
    "subset = ['S_postural_sway', 'NS_postural_sway']\n",
    "\n",
    "\n",
    "#for feature_scenario in DEFAULT_PREDICTORS_BY_TYPES.keys():\n",
    "for random_state in random_states:\n",
    "\n",
    "\n",
    "    df =  pd.read_csv(AUTISM_DATA_PATH)\n",
    "\n",
    "    data = Dataset(df=df, \n",
    "                   missing_data_handling='imputation',\n",
    "                   imputation_method='constant',\n",
    "                   sampling_method='without',\n",
    "                   scenario = 'multimodal_2023_regular', \n",
    "                   features_name = DEFAULT_PREDICTORS_BY_TYPES[feature_scenario] + list(subset), # if feature_scenario=='All' else DEFAULT_PREDICTORS_BY_TYPES[feature_scenario],\n",
    "                   scale_data=False, \n",
    "                   use_missing_indicator_variables=False,\n",
    "                   verbosity=0, \n",
    "                   proportion_train=1)\n",
    "\n",
    "\n",
    "    exp = Experiments(data.dataset_name,\n",
    "                      dataset=data, \n",
    "                      approach='xgboost', \n",
    "                      previous_experiment=None,        \n",
    "                      debug=False, \n",
    "                      experiment_folder_name='20_december_features_experiment_with_weight_ps_test_final_90', \n",
    "                      model_hyperparameters=xgboost_hyperparameters,\n",
    "                      experiment_name = 'Multimodal {}'.format(feature_scenario),\n",
    "                      verbosity=0, \n",
    "                      save_experiment=True)\n",
    "\n",
    "    exp.fit_predict(num_cv=10, sample_weight=weighted_confidence_score, random_state=random_state)\n",
    "    #display(exp.performances_df)\n",
    "\n",
    "print(\"Done\")"
   ]
  },
  {
   "cell_type": "code",
   "execution_count": 120,
   "id": "3231fa63",
   "metadata": {},
   "outputs": [
    {
     "name": "stderr",
     "output_type": "stream",
     "text": [
      "100%|██████████| 26/26 [00:06<00:00,  4.32it/s]\n"
     ]
    }
   ],
   "source": [
    "from utils import create_autism_df\n",
    "\n",
    "\n",
    "df = create_autism_df(folder_names = ['20_december_features_experiment_with_weight_ps_test_final_90'])##'13_november_bis'])#'November 2022'])"
   ]
  },
  {
   "cell_type": "code",
   "execution_count": 121,
   "id": "00464930",
   "metadata": {},
   "outputs": [
    {
     "data": {
      "text/plain": [
       "25"
      ]
     },
     "execution_count": 121,
     "metadata": {},
     "output_type": "execute_result"
    }
   ],
   "source": [
    "len(df)"
   ]
  },
  {
   "cell_type": "code",
   "execution_count": 122,
   "id": "9a758c03",
   "metadata": {},
   "outputs": [],
   "source": [
    "results_df_vertical = pd.DataFrame(columns = ['experiment_name', 'imputation_method', 'missing_data_handling', 'scale_data', 'n_features', \n",
    "                                              'sampling_method', 'max_depth',  'gamma', 'reg_lambda', 'learning_rate', 'n_estimators',\n",
    "                                              'score', 'metric_name', 'TP', 'TN', 'FP', 'FN', 'y_true', 'y_pred', 'Hanley_CI'])\n",
    "\n",
    "metrics_of_interest = ['AUROC', 'F1 score Corrected', 'Sensitivity', 'Specificity','PPV-Corr', 'TP', 'TN', 'FP', 'FN']\n",
    "metrics_to_plot = ['AUROC', 'F1 score Corrected', 'Sensitivity', 'Specificity', 'PPV-Corr']#, 'Precision Corrected']\n",
    "\n",
    "for exp, experiment_row in df.iterrows():\n",
    "    \n",
    "    for metric in metrics_of_interest:\n",
    "        \n",
    "        results_df_vertical = results_df_vertical.append({'experiment_name':experiment_row['experiment_name'], \n",
    "                                                                       'imputation_method':experiment_row['imputation_method'], \n",
    "                                                                       'missing_data_handling':experiment_row['missing_data_handling'], \n",
    "                                                                       'scale_data':experiment_row['scale_data'], \n",
    "                                                                       'n_features': experiment_row['n_features'], \n",
    "                                                                       'sampling_method': experiment_row['sampling_method'], \n",
    "                                                                       'max_depth': experiment_row['max_depth'], \n",
    "                                                                       'n_estimators': experiment_row['n_estimators'], \n",
    "                                                                       'gamma': experiment_row['gamma'], \n",
    "                                                                       'reg_lambda': experiment_row['reg_lambda'], \n",
    "                                                                       'learning_rate': experiment_row['learning_rate'], \n",
    "                                                                       'score':experiment_row[metric], \n",
    "                                                                       'metric_name':metric,\n",
    "                                                                       'TP':experiment_row['TP'], \n",
    "                                                                       'TN':experiment_row['TN'], \n",
    "                                                                       'FP':experiment_row['FP'], \n",
    "                                                                       'y_true': [experiment_row['y_true']], \n",
    "                                                                       'y_pred': [experiment_row['y_pred']], \n",
    "                                                                      }, ignore_index=True)\n",
    "        \n"
   ]
  },
  {
   "cell_type": "code",
   "execution_count": 123,
   "id": "7b8cfd21",
   "metadata": {},
   "outputs": [],
   "source": [
    "results = results_df_vertical[(results_df_vertical['experiment_name'].str.contains('Multimodal')) & (results_df_vertical['metric_name'].isin(metrics_to_plot))]\n",
    "results['experiment_name'] = results['experiment_name'].apply(lambda x: x.replace('Multimodal ', ''))\n",
    "results['experiment_name'] = results['experiment_name'].replace({name: name.replace('-', 'but\\n') if '-' in name else \n",
    "                                                                 name.replace('but', 'but\\n') if 'but' in name else \n",
    "                                                                 name.replace('but', 'but\\n') for name in results['experiment_name'].unique()})\n",
    "results['experiment_name'].unique()\n",
    "results.reset_index(drop=True, inplace=True)\n",
    "results['relative_score'] = np.nan"
   ]
  },
  {
   "cell_type": "code",
   "execution_count": 124,
   "id": "9e5e2d82",
   "metadata": {},
   "outputs": [
    {
     "data": {
      "text/html": [
       "<div>\n",
       "<style scoped>\n",
       "    .dataframe tbody tr th:only-of-type {\n",
       "        vertical-align: middle;\n",
       "    }\n",
       "\n",
       "    .dataframe tbody tr th {\n",
       "        vertical-align: top;\n",
       "    }\n",
       "\n",
       "    .dataframe thead th {\n",
       "        text-align: right;\n",
       "    }\n",
       "</style>\n",
       "<table border=\"1\" class=\"dataframe\">\n",
       "  <thead>\n",
       "    <tr style=\"text-align: right;\">\n",
       "      <th></th>\n",
       "      <th></th>\n",
       "      <th>count</th>\n",
       "      <th>mean</th>\n",
       "      <th>std</th>\n",
       "      <th>min</th>\n",
       "      <th>25%</th>\n",
       "      <th>50%</th>\n",
       "      <th>75%</th>\n",
       "      <th>max</th>\n",
       "    </tr>\n",
       "    <tr>\n",
       "      <th>experiment_name</th>\n",
       "      <th>metric_name</th>\n",
       "      <th></th>\n",
       "      <th></th>\n",
       "      <th></th>\n",
       "      <th></th>\n",
       "      <th></th>\n",
       "      <th></th>\n",
       "      <th></th>\n",
       "      <th></th>\n",
       "    </tr>\n",
       "  </thead>\n",
       "  <tbody>\n",
       "    <tr>\n",
       "      <th rowspan=\"5\" valign=\"top\">All but\\n PosturalSway</th>\n",
       "      <th>AUROC</th>\n",
       "      <td>25.0</td>\n",
       "      <td>0.88652</td>\n",
       "      <td>0.008685</td>\n",
       "      <td>0.870</td>\n",
       "      <td>0.882</td>\n",
       "      <td>0.885</td>\n",
       "      <td>0.892</td>\n",
       "      <td>0.907</td>\n",
       "    </tr>\n",
       "    <tr>\n",
       "      <th>F1 score Corrected</th>\n",
       "      <td>25.0</td>\n",
       "      <td>0.17720</td>\n",
       "      <td>0.027430</td>\n",
       "      <td>0.138</td>\n",
       "      <td>0.155</td>\n",
       "      <td>0.174</td>\n",
       "      <td>0.195</td>\n",
       "      <td>0.239</td>\n",
       "    </tr>\n",
       "    <tr>\n",
       "      <th>PPV-Corr</th>\n",
       "      <td>25.0</td>\n",
       "      <td>0.09640</td>\n",
       "      <td>0.017163</td>\n",
       "      <td>0.071</td>\n",
       "      <td>0.083</td>\n",
       "      <td>0.094</td>\n",
       "      <td>0.107</td>\n",
       "      <td>0.138</td>\n",
       "    </tr>\n",
       "    <tr>\n",
       "      <th>Sensitivity</th>\n",
       "      <td>25.0</td>\n",
       "      <td>0.83104</td>\n",
       "      <td>0.051261</td>\n",
       "      <td>0.694</td>\n",
       "      <td>0.816</td>\n",
       "      <td>0.837</td>\n",
       "      <td>0.857</td>\n",
       "      <td>0.898</td>\n",
       "    </tr>\n",
       "    <tr>\n",
       "      <th>Specificity</th>\n",
       "      <td>25.0</td>\n",
       "      <td>0.81116</td>\n",
       "      <td>0.044179</td>\n",
       "      <td>0.735</td>\n",
       "      <td>0.774</td>\n",
       "      <td>0.814</td>\n",
       "      <td>0.838</td>\n",
       "      <td>0.890</td>\n",
       "    </tr>\n",
       "  </tbody>\n",
       "</table>\n",
       "</div>"
      ],
      "text/plain": [
       "                                           count     mean       std    min    25%    50%    75%    max\n",
       "experiment_name        metric_name                                                                    \n",
       "All but\\n PosturalSway AUROC                25.0  0.88652  0.008685  0.870  0.882  0.885  0.892  0.907\n",
       "                       F1 score Corrected   25.0  0.17720  0.027430  0.138  0.155  0.174  0.195  0.239\n",
       "                       PPV-Corr             25.0  0.09640  0.017163  0.071  0.083  0.094  0.107  0.138\n",
       "                       Sensitivity          25.0  0.83104  0.051261  0.694  0.816  0.837  0.857  0.898\n",
       "                       Specificity          25.0  0.81116  0.044179  0.735  0.774  0.814  0.838  0.890"
      ]
     },
     "execution_count": 124,
     "metadata": {},
     "output_type": "execute_result"
    }
   ],
   "source": [
    "results[results['experiment_name'].isin(['All', 'All but\\n PosturalSway'])].groupby(['experiment_name', 'metric_name']).describe()['score']"
   ]
  },
  {
   "cell_type": "code",
   "execution_count": 94,
   "id": "3037ecdb",
   "metadata": {},
   "outputs": [
    {
     "data": {
      "text/html": [
       "<div>\n",
       "<style scoped>\n",
       "    .dataframe tbody tr th:only-of-type {\n",
       "        vertical-align: middle;\n",
       "    }\n",
       "\n",
       "    .dataframe tbody tr th {\n",
       "        vertical-align: top;\n",
       "    }\n",
       "\n",
       "    .dataframe thead th {\n",
       "        text-align: right;\n",
       "    }\n",
       "</style>\n",
       "<table border=\"1\" class=\"dataframe\">\n",
       "  <thead>\n",
       "    <tr style=\"text-align: right;\">\n",
       "      <th></th>\n",
       "      <th></th>\n",
       "      <th>count</th>\n",
       "      <th>mean</th>\n",
       "      <th>std</th>\n",
       "      <th>min</th>\n",
       "      <th>25%</th>\n",
       "      <th>50%</th>\n",
       "      <th>75%</th>\n",
       "      <th>max</th>\n",
       "    </tr>\n",
       "    <tr>\n",
       "      <th>experiment_name</th>\n",
       "      <th>metric_name</th>\n",
       "      <th></th>\n",
       "      <th></th>\n",
       "      <th></th>\n",
       "      <th></th>\n",
       "      <th></th>\n",
       "      <th></th>\n",
       "      <th></th>\n",
       "      <th></th>\n",
       "    </tr>\n",
       "  </thead>\n",
       "  <tbody>\n",
       "    <tr>\n",
       "      <th rowspan=\"5\" valign=\"top\">All</th>\n",
       "      <th>AUROC</th>\n",
       "      <td>54.0</td>\n",
       "      <td>0.893093</td>\n",
       "      <td>0.007349</td>\n",
       "      <td>0.879</td>\n",
       "      <td>0.88825</td>\n",
       "      <td>0.8935</td>\n",
       "      <td>0.89900</td>\n",
       "      <td>0.906</td>\n",
       "    </tr>\n",
       "    <tr>\n",
       "      <th>F1 score Corrected</th>\n",
       "      <td>54.0</td>\n",
       "      <td>0.202741</td>\n",
       "      <td>0.026256</td>\n",
       "      <td>0.141</td>\n",
       "      <td>0.18375</td>\n",
       "      <td>0.2015</td>\n",
       "      <td>0.22400</td>\n",
       "      <td>0.255</td>\n",
       "    </tr>\n",
       "    <tr>\n",
       "      <th>PPV-Corr</th>\n",
       "      <td>54.0</td>\n",
       "      <td>0.112056</td>\n",
       "      <td>0.016525</td>\n",
       "      <td>0.073</td>\n",
       "      <td>0.09900</td>\n",
       "      <td>0.1110</td>\n",
       "      <td>0.12625</td>\n",
       "      <td>0.148</td>\n",
       "    </tr>\n",
       "    <tr>\n",
       "      <th>Sensitivity</th>\n",
       "      <td>54.0</td>\n",
       "      <td>0.832704</td>\n",
       "      <td>0.034168</td>\n",
       "      <td>0.755</td>\n",
       "      <td>0.81600</td>\n",
       "      <td>0.8370</td>\n",
       "      <td>0.85700</td>\n",
       "      <td>0.898</td>\n",
       "    </tr>\n",
       "    <tr>\n",
       "      <th>Specificity</th>\n",
       "      <td>54.0</td>\n",
       "      <td>0.841833</td>\n",
       "      <td>0.032197</td>\n",
       "      <td>0.741</td>\n",
       "      <td>0.82150</td>\n",
       "      <td>0.8410</td>\n",
       "      <td>0.86600</td>\n",
       "      <td>0.896</td>\n",
       "    </tr>\n",
       "    <tr>\n",
       "      <th rowspan=\"5\" valign=\"top\">All but\\n PosturalSway</th>\n",
       "      <th>AUROC</th>\n",
       "      <td>50.0</td>\n",
       "      <td>0.898980</td>\n",
       "      <td>0.007588</td>\n",
       "      <td>0.885</td>\n",
       "      <td>0.89300</td>\n",
       "      <td>0.8970</td>\n",
       "      <td>0.90400</td>\n",
       "      <td>0.916</td>\n",
       "    </tr>\n",
       "    <tr>\n",
       "      <th>F1 score Corrected</th>\n",
       "      <td>50.0</td>\n",
       "      <td>0.228240</td>\n",
       "      <td>0.025629</td>\n",
       "      <td>0.173</td>\n",
       "      <td>0.21000</td>\n",
       "      <td>0.2325</td>\n",
       "      <td>0.24100</td>\n",
       "      <td>0.291</td>\n",
       "    </tr>\n",
       "    <tr>\n",
       "      <th>PPV-Corr</th>\n",
       "      <td>50.0</td>\n",
       "      <td>0.128180</td>\n",
       "      <td>0.016324</td>\n",
       "      <td>0.094</td>\n",
       "      <td>0.11700</td>\n",
       "      <td>0.1290</td>\n",
       "      <td>0.13800</td>\n",
       "      <td>0.169</td>\n",
       "    </tr>\n",
       "    <tr>\n",
       "      <th>Sensitivity</th>\n",
       "      <td>50.0</td>\n",
       "      <td>0.821240</td>\n",
       "      <td>0.034919</td>\n",
       "      <td>0.714</td>\n",
       "      <td>0.81600</td>\n",
       "      <td>0.8370</td>\n",
       "      <td>0.83700</td>\n",
       "      <td>0.878</td>\n",
       "    </tr>\n",
       "    <tr>\n",
       "      <th>Specificity</th>\n",
       "      <td>50.0</td>\n",
       "      <td>0.867280</td>\n",
       "      <td>0.023381</td>\n",
       "      <td>0.808</td>\n",
       "      <td>0.85400</td>\n",
       "      <td>0.8720</td>\n",
       "      <td>0.88025</td>\n",
       "      <td>0.912</td>\n",
       "    </tr>\n",
       "  </tbody>\n",
       "</table>\n",
       "</div>"
      ],
      "text/plain": [
       "                                           count      mean       std    min      25%     50%      75%    max\n",
       "experiment_name        metric_name                                                                          \n",
       "All                    AUROC                54.0  0.893093  0.007349  0.879  0.88825  0.8935  0.89900  0.906\n",
       "                       F1 score Corrected   54.0  0.202741  0.026256  0.141  0.18375  0.2015  0.22400  0.255\n",
       "                       PPV-Corr             54.0  0.112056  0.016525  0.073  0.09900  0.1110  0.12625  0.148\n",
       "                       Sensitivity          54.0  0.832704  0.034168  0.755  0.81600  0.8370  0.85700  0.898\n",
       "                       Specificity          54.0  0.841833  0.032197  0.741  0.82150  0.8410  0.86600  0.896\n",
       "All but\\n PosturalSway AUROC                50.0  0.898980  0.007588  0.885  0.89300  0.8970  0.90400  0.916\n",
       "                       F1 score Corrected   50.0  0.228240  0.025629  0.173  0.21000  0.2325  0.24100  0.291\n",
       "                       PPV-Corr             50.0  0.128180  0.016324  0.094  0.11700  0.1290  0.13800  0.169\n",
       "                       Sensitivity          50.0  0.821240  0.034919  0.714  0.81600  0.8370  0.83700  0.878\n",
       "                       Specificity          50.0  0.867280  0.023381  0.808  0.85400  0.8720  0.88025  0.912"
      ]
     },
     "execution_count": 94,
     "metadata": {},
     "output_type": "execute_result"
    }
   ],
   "source": [
    "results[results['experiment_name'].isin(['All', 'All but\\n PosturalSway'])].groupby(['experiment_name', 'metric_name']).describe()['score']"
   ]
  },
  {
   "cell_type": "code",
   "execution_count": 12,
   "id": "60b40650",
   "metadata": {},
   "outputs": [
    {
     "data": {
      "text/html": [
       "<div>\n",
       "<style scoped>\n",
       "    .dataframe tbody tr th:only-of-type {\n",
       "        vertical-align: middle;\n",
       "    }\n",
       "\n",
       "    .dataframe tbody tr th {\n",
       "        vertical-align: top;\n",
       "    }\n",
       "\n",
       "    .dataframe thead th {\n",
       "        text-align: right;\n",
       "    }\n",
       "</style>\n",
       "<table border=\"1\" class=\"dataframe\">\n",
       "  <thead>\n",
       "    <tr style=\"text-align: right;\">\n",
       "      <th></th>\n",
       "      <th></th>\n",
       "      <th>count</th>\n",
       "      <th>mean</th>\n",
       "      <th>std</th>\n",
       "      <th>min</th>\n",
       "      <th>25%</th>\n",
       "      <th>50%</th>\n",
       "      <th>75%</th>\n",
       "      <th>max</th>\n",
       "    </tr>\n",
       "    <tr>\n",
       "      <th>experiment_name</th>\n",
       "      <th>metric_name</th>\n",
       "      <th></th>\n",
       "      <th></th>\n",
       "      <th></th>\n",
       "      <th></th>\n",
       "      <th></th>\n",
       "      <th></th>\n",
       "      <th></th>\n",
       "      <th></th>\n",
       "    </tr>\n",
       "  </thead>\n",
       "  <tbody>\n",
       "    <tr>\n",
       "      <th rowspan=\"5\" valign=\"top\">All</th>\n",
       "      <th>AUROC</th>\n",
       "      <td>50.0</td>\n",
       "      <td>0.88702</td>\n",
       "      <td>0.006570</td>\n",
       "      <td>0.875</td>\n",
       "      <td>0.88225</td>\n",
       "      <td>0.8885</td>\n",
       "      <td>0.89075</td>\n",
       "      <td>0.904</td>\n",
       "    </tr>\n",
       "    <tr>\n",
       "      <th>F1 score Corrected</th>\n",
       "      <td>50.0</td>\n",
       "      <td>0.18488</td>\n",
       "      <td>0.030002</td>\n",
       "      <td>0.126</td>\n",
       "      <td>0.16425</td>\n",
       "      <td>0.1820</td>\n",
       "      <td>0.19900</td>\n",
       "      <td>0.272</td>\n",
       "    </tr>\n",
       "    <tr>\n",
       "      <th>PPV-Corr</th>\n",
       "      <td>50.0</td>\n",
       "      <td>0.10142</td>\n",
       "      <td>0.019019</td>\n",
       "      <td>0.066</td>\n",
       "      <td>0.08825</td>\n",
       "      <td>0.0995</td>\n",
       "      <td>0.11075</td>\n",
       "      <td>0.159</td>\n",
       "    </tr>\n",
       "    <tr>\n",
       "      <th>Sensitivity</th>\n",
       "      <td>50.0</td>\n",
       "      <td>0.82576</td>\n",
       "      <td>0.037318</td>\n",
       "      <td>0.735</td>\n",
       "      <td>0.79600</td>\n",
       "      <td>0.8370</td>\n",
       "      <td>0.85700</td>\n",
       "      <td>0.898</td>\n",
       "    </tr>\n",
       "    <tr>\n",
       "      <th>Specificity</th>\n",
       "      <td>50.0</td>\n",
       "      <td>0.82294</td>\n",
       "      <td>0.039767</td>\n",
       "      <td>0.704</td>\n",
       "      <td>0.79600</td>\n",
       "      <td>0.8230</td>\n",
       "      <td>0.84725</td>\n",
       "      <td>0.909</td>\n",
       "    </tr>\n",
       "    <tr>\n",
       "      <th rowspan=\"5\" valign=\"top\">All but\\n PosturalSway</th>\n",
       "      <th>AUROC</th>\n",
       "      <td>50.0</td>\n",
       "      <td>0.89104</td>\n",
       "      <td>0.007412</td>\n",
       "      <td>0.874</td>\n",
       "      <td>0.88700</td>\n",
       "      <td>0.8910</td>\n",
       "      <td>0.89575</td>\n",
       "      <td>0.907</td>\n",
       "    </tr>\n",
       "    <tr>\n",
       "      <th>F1 score Corrected</th>\n",
       "      <td>50.0</td>\n",
       "      <td>0.21298</td>\n",
       "      <td>0.029010</td>\n",
       "      <td>0.154</td>\n",
       "      <td>0.19000</td>\n",
       "      <td>0.2190</td>\n",
       "      <td>0.23200</td>\n",
       "      <td>0.278</td>\n",
       "    </tr>\n",
       "    <tr>\n",
       "      <th>PPV-Corr</th>\n",
       "      <td>50.0</td>\n",
       "      <td>0.11884</td>\n",
       "      <td>0.018661</td>\n",
       "      <td>0.082</td>\n",
       "      <td>0.10350</td>\n",
       "      <td>0.1235</td>\n",
       "      <td>0.13125</td>\n",
       "      <td>0.157</td>\n",
       "    </tr>\n",
       "    <tr>\n",
       "      <th>Sensitivity</th>\n",
       "      <td>50.0</td>\n",
       "      <td>0.82042</td>\n",
       "      <td>0.033471</td>\n",
       "      <td>0.755</td>\n",
       "      <td>0.79600</td>\n",
       "      <td>0.8160</td>\n",
       "      <td>0.85200</td>\n",
       "      <td>0.878</td>\n",
       "    </tr>\n",
       "    <tr>\n",
       "      <th>Specificity</th>\n",
       "      <td>50.0</td>\n",
       "      <td>0.85386</td>\n",
       "      <td>0.030452</td>\n",
       "      <td>0.784</td>\n",
       "      <td>0.83050</td>\n",
       "      <td>0.8645</td>\n",
       "      <td>0.87500</td>\n",
       "      <td>0.905</td>\n",
       "    </tr>\n",
       "  </tbody>\n",
       "</table>\n",
       "</div>"
      ],
      "text/plain": [
       "                                           count     mean       std    min      25%     50%      75%    max\n",
       "experiment_name        metric_name                                                                         \n",
       "All                    AUROC                50.0  0.88702  0.006570  0.875  0.88225  0.8885  0.89075  0.904\n",
       "                       F1 score Corrected   50.0  0.18488  0.030002  0.126  0.16425  0.1820  0.19900  0.272\n",
       "                       PPV-Corr             50.0  0.10142  0.019019  0.066  0.08825  0.0995  0.11075  0.159\n",
       "                       Sensitivity          50.0  0.82576  0.037318  0.735  0.79600  0.8370  0.85700  0.898\n",
       "                       Specificity          50.0  0.82294  0.039767  0.704  0.79600  0.8230  0.84725  0.909\n",
       "All but\\n PosturalSway AUROC                50.0  0.89104  0.007412  0.874  0.88700  0.8910  0.89575  0.907\n",
       "                       F1 score Corrected   50.0  0.21298  0.029010  0.154  0.19000  0.2190  0.23200  0.278\n",
       "                       PPV-Corr             50.0  0.11884  0.018661  0.082  0.10350  0.1235  0.13125  0.157\n",
       "                       Sensitivity          50.0  0.82042  0.033471  0.755  0.79600  0.8160  0.85200  0.878\n",
       "                       Specificity          50.0  0.85386  0.030452  0.784  0.83050  0.8645  0.87500  0.905"
      ]
     },
     "execution_count": 12,
     "metadata": {},
     "output_type": "execute_result"
    }
   ],
   "source": [
    "results[results['experiment_name'].isin(['All', 'All but\\n PosturalSway'])].groupby(['experiment_name', 'metric_name']).describe()['score']"
   ]
  },
  {
   "cell_type": "code",
   "execution_count": null,
   "id": "b85a24a7",
   "metadata": {},
   "outputs": [],
   "source": []
  },
  {
   "cell_type": "markdown",
   "id": "317bb297",
   "metadata": {
    "heading_collapsed": "true",
    "tags": []
   },
   "source": [
    "## Exerpiemnts on the Touch"
   ]
  },
  {
   "cell_type": "code",
   "execution_count": 46,
   "id": "4695d7f0",
   "metadata": {
    "scrolled": true,
    "tags": []
   },
   "outputs": [
    {
     "name": "stdout",
     "output_type": "stream",
     "text": [
      "377 administrations left.\n"
     ]
    },
    {
     "data": {
      "text/html": [
       "<div>\n",
       "<style scoped>\n",
       "    .dataframe tbody tr th:only-of-type {\n",
       "        vertical-align: middle;\n",
       "    }\n",
       "\n",
       "    .dataframe tbody tr th {\n",
       "        vertical-align: top;\n",
       "    }\n",
       "\n",
       "    .dataframe thead th {\n",
       "        text-align: right;\n",
       "    }\n",
       "</style>\n",
       "<table border=\"1\" class=\"dataframe\">\n",
       "  <thead>\n",
       "    <tr style=\"text-align: right;\">\n",
       "      <th></th>\n",
       "      <th>id</th>\n",
       "    </tr>\n",
       "    <tr>\n",
       "      <th>diagnosis</th>\n",
       "      <th></th>\n",
       "    </tr>\n",
       "  </thead>\n",
       "  <tbody>\n",
       "    <tr>\n",
       "      <th>0.0</th>\n",
       "      <td>328</td>\n",
       "    </tr>\n",
       "    <tr>\n",
       "      <th>1.0</th>\n",
       "      <td>49</td>\n",
       "    </tr>\n",
       "  </tbody>\n",
       "</table>\n",
       "</div>"
      ],
      "text/plain": [
       "            id\n",
       "diagnosis     \n",
       "0.0        328\n",
       "1.0         49"
      ]
     },
     "metadata": {},
     "output_type": "display_data"
    },
    {
     "name": "stdout",
     "output_type": "stream",
     "text": [
      "377 administrations left.\n"
     ]
    },
    {
     "data": {
      "text/html": [
       "<div>\n",
       "<style scoped>\n",
       "    .dataframe tbody tr th:only-of-type {\n",
       "        vertical-align: middle;\n",
       "    }\n",
       "\n",
       "    .dataframe tbody tr th {\n",
       "        vertical-align: top;\n",
       "    }\n",
       "\n",
       "    .dataframe thead th {\n",
       "        text-align: right;\n",
       "    }\n",
       "</style>\n",
       "<table border=\"1\" class=\"dataframe\">\n",
       "  <thead>\n",
       "    <tr style=\"text-align: right;\">\n",
       "      <th></th>\n",
       "      <th>id</th>\n",
       "    </tr>\n",
       "    <tr>\n",
       "      <th>diagnosis</th>\n",
       "      <th></th>\n",
       "    </tr>\n",
       "  </thead>\n",
       "  <tbody>\n",
       "    <tr>\n",
       "      <th>0.0</th>\n",
       "      <td>328</td>\n",
       "    </tr>\n",
       "    <tr>\n",
       "      <th>1.0</th>\n",
       "      <td>49</td>\n",
       "    </tr>\n",
       "  </tbody>\n",
       "</table>\n",
       "</div>"
      ],
      "text/plain": [
       "            id\n",
       "diagnosis     \n",
       "0.0        328\n",
       "1.0         49"
      ]
     },
     "metadata": {},
     "output_type": "display_data"
    },
    {
     "name": "stdout",
     "output_type": "stream",
     "text": [
      "377 administrations left.\n"
     ]
    },
    {
     "data": {
      "text/html": [
       "<div>\n",
       "<style scoped>\n",
       "    .dataframe tbody tr th:only-of-type {\n",
       "        vertical-align: middle;\n",
       "    }\n",
       "\n",
       "    .dataframe tbody tr th {\n",
       "        vertical-align: top;\n",
       "    }\n",
       "\n",
       "    .dataframe thead th {\n",
       "        text-align: right;\n",
       "    }\n",
       "</style>\n",
       "<table border=\"1\" class=\"dataframe\">\n",
       "  <thead>\n",
       "    <tr style=\"text-align: right;\">\n",
       "      <th></th>\n",
       "      <th>id</th>\n",
       "    </tr>\n",
       "    <tr>\n",
       "      <th>diagnosis</th>\n",
       "      <th></th>\n",
       "    </tr>\n",
       "  </thead>\n",
       "  <tbody>\n",
       "    <tr>\n",
       "      <th>0.0</th>\n",
       "      <td>328</td>\n",
       "    </tr>\n",
       "    <tr>\n",
       "      <th>1.0</th>\n",
       "      <td>49</td>\n",
       "    </tr>\n",
       "  </tbody>\n",
       "</table>\n",
       "</div>"
      ],
      "text/plain": [
       "            id\n",
       "diagnosis     \n",
       "0.0        328\n",
       "1.0         49"
      ]
     },
     "metadata": {},
     "output_type": "display_data"
    },
    {
     "name": "stdout",
     "output_type": "stream",
     "text": [
      "377 administrations left.\n"
     ]
    },
    {
     "data": {
      "text/html": [
       "<div>\n",
       "<style scoped>\n",
       "    .dataframe tbody tr th:only-of-type {\n",
       "        vertical-align: middle;\n",
       "    }\n",
       "\n",
       "    .dataframe tbody tr th {\n",
       "        vertical-align: top;\n",
       "    }\n",
       "\n",
       "    .dataframe thead th {\n",
       "        text-align: right;\n",
       "    }\n",
       "</style>\n",
       "<table border=\"1\" class=\"dataframe\">\n",
       "  <thead>\n",
       "    <tr style=\"text-align: right;\">\n",
       "      <th></th>\n",
       "      <th>id</th>\n",
       "    </tr>\n",
       "    <tr>\n",
       "      <th>diagnosis</th>\n",
       "      <th></th>\n",
       "    </tr>\n",
       "  </thead>\n",
       "  <tbody>\n",
       "    <tr>\n",
       "      <th>0.0</th>\n",
       "      <td>328</td>\n",
       "    </tr>\n",
       "    <tr>\n",
       "      <th>1.0</th>\n",
       "      <td>49</td>\n",
       "    </tr>\n",
       "  </tbody>\n",
       "</table>\n",
       "</div>"
      ],
      "text/plain": [
       "            id\n",
       "diagnosis     \n",
       "0.0        328\n",
       "1.0         49"
      ]
     },
     "metadata": {},
     "output_type": "display_data"
    },
    {
     "name": "stdout",
     "output_type": "stream",
     "text": [
      "377 administrations left.\n"
     ]
    },
    {
     "data": {
      "text/html": [
       "<div>\n",
       "<style scoped>\n",
       "    .dataframe tbody tr th:only-of-type {\n",
       "        vertical-align: middle;\n",
       "    }\n",
       "\n",
       "    .dataframe tbody tr th {\n",
       "        vertical-align: top;\n",
       "    }\n",
       "\n",
       "    .dataframe thead th {\n",
       "        text-align: right;\n",
       "    }\n",
       "</style>\n",
       "<table border=\"1\" class=\"dataframe\">\n",
       "  <thead>\n",
       "    <tr style=\"text-align: right;\">\n",
       "      <th></th>\n",
       "      <th>id</th>\n",
       "    </tr>\n",
       "    <tr>\n",
       "      <th>diagnosis</th>\n",
       "      <th></th>\n",
       "    </tr>\n",
       "  </thead>\n",
       "  <tbody>\n",
       "    <tr>\n",
       "      <th>0.0</th>\n",
       "      <td>328</td>\n",
       "    </tr>\n",
       "    <tr>\n",
       "      <th>1.0</th>\n",
       "      <td>49</td>\n",
       "    </tr>\n",
       "  </tbody>\n",
       "</table>\n",
       "</div>"
      ],
      "text/plain": [
       "            id\n",
       "diagnosis     \n",
       "0.0        328\n",
       "1.0         49"
      ]
     },
     "metadata": {},
     "output_type": "display_data"
    },
    {
     "name": "stdout",
     "output_type": "stream",
     "text": [
      "377 administrations left.\n"
     ]
    },
    {
     "data": {
      "text/html": [
       "<div>\n",
       "<style scoped>\n",
       "    .dataframe tbody tr th:only-of-type {\n",
       "        vertical-align: middle;\n",
       "    }\n",
       "\n",
       "    .dataframe tbody tr th {\n",
       "        vertical-align: top;\n",
       "    }\n",
       "\n",
       "    .dataframe thead th {\n",
       "        text-align: right;\n",
       "    }\n",
       "</style>\n",
       "<table border=\"1\" class=\"dataframe\">\n",
       "  <thead>\n",
       "    <tr style=\"text-align: right;\">\n",
       "      <th></th>\n",
       "      <th>id</th>\n",
       "    </tr>\n",
       "    <tr>\n",
       "      <th>diagnosis</th>\n",
       "      <th></th>\n",
       "    </tr>\n",
       "  </thead>\n",
       "  <tbody>\n",
       "    <tr>\n",
       "      <th>0.0</th>\n",
       "      <td>328</td>\n",
       "    </tr>\n",
       "    <tr>\n",
       "      <th>1.0</th>\n",
       "      <td>49</td>\n",
       "    </tr>\n",
       "  </tbody>\n",
       "</table>\n",
       "</div>"
      ],
      "text/plain": [
       "            id\n",
       "diagnosis     \n",
       "0.0        328\n",
       "1.0         49"
      ]
     },
     "metadata": {},
     "output_type": "display_data"
    },
    {
     "name": "stdout",
     "output_type": "stream",
     "text": [
      "377 administrations left.\n"
     ]
    },
    {
     "data": {
      "text/html": [
       "<div>\n",
       "<style scoped>\n",
       "    .dataframe tbody tr th:only-of-type {\n",
       "        vertical-align: middle;\n",
       "    }\n",
       "\n",
       "    .dataframe tbody tr th {\n",
       "        vertical-align: top;\n",
       "    }\n",
       "\n",
       "    .dataframe thead th {\n",
       "        text-align: right;\n",
       "    }\n",
       "</style>\n",
       "<table border=\"1\" class=\"dataframe\">\n",
       "  <thead>\n",
       "    <tr style=\"text-align: right;\">\n",
       "      <th></th>\n",
       "      <th>id</th>\n",
       "    </tr>\n",
       "    <tr>\n",
       "      <th>diagnosis</th>\n",
       "      <th></th>\n",
       "    </tr>\n",
       "  </thead>\n",
       "  <tbody>\n",
       "    <tr>\n",
       "      <th>0.0</th>\n",
       "      <td>328</td>\n",
       "    </tr>\n",
       "    <tr>\n",
       "      <th>1.0</th>\n",
       "      <td>49</td>\n",
       "    </tr>\n",
       "  </tbody>\n",
       "</table>\n",
       "</div>"
      ],
      "text/plain": [
       "            id\n",
       "diagnosis     \n",
       "0.0        328\n",
       "1.0         49"
      ]
     },
     "metadata": {},
     "output_type": "display_data"
    },
    {
     "name": "stdout",
     "output_type": "stream",
     "text": [
      "377 administrations left.\n"
     ]
    },
    {
     "data": {
      "text/html": [
       "<div>\n",
       "<style scoped>\n",
       "    .dataframe tbody tr th:only-of-type {\n",
       "        vertical-align: middle;\n",
       "    }\n",
       "\n",
       "    .dataframe tbody tr th {\n",
       "        vertical-align: top;\n",
       "    }\n",
       "\n",
       "    .dataframe thead th {\n",
       "        text-align: right;\n",
       "    }\n",
       "</style>\n",
       "<table border=\"1\" class=\"dataframe\">\n",
       "  <thead>\n",
       "    <tr style=\"text-align: right;\">\n",
       "      <th></th>\n",
       "      <th>id</th>\n",
       "    </tr>\n",
       "    <tr>\n",
       "      <th>diagnosis</th>\n",
       "      <th></th>\n",
       "    </tr>\n",
       "  </thead>\n",
       "  <tbody>\n",
       "    <tr>\n",
       "      <th>0.0</th>\n",
       "      <td>328</td>\n",
       "    </tr>\n",
       "    <tr>\n",
       "      <th>1.0</th>\n",
       "      <td>49</td>\n",
       "    </tr>\n",
       "  </tbody>\n",
       "</table>\n",
       "</div>"
      ],
      "text/plain": [
       "            id\n",
       "diagnosis     \n",
       "0.0        328\n",
       "1.0         49"
      ]
     },
     "metadata": {},
     "output_type": "display_data"
    },
    {
     "name": "stdout",
     "output_type": "stream",
     "text": [
      "377 administrations left.\n"
     ]
    },
    {
     "data": {
      "text/html": [
       "<div>\n",
       "<style scoped>\n",
       "    .dataframe tbody tr th:only-of-type {\n",
       "        vertical-align: middle;\n",
       "    }\n",
       "\n",
       "    .dataframe tbody tr th {\n",
       "        vertical-align: top;\n",
       "    }\n",
       "\n",
       "    .dataframe thead th {\n",
       "        text-align: right;\n",
       "    }\n",
       "</style>\n",
       "<table border=\"1\" class=\"dataframe\">\n",
       "  <thead>\n",
       "    <tr style=\"text-align: right;\">\n",
       "      <th></th>\n",
       "      <th>id</th>\n",
       "    </tr>\n",
       "    <tr>\n",
       "      <th>diagnosis</th>\n",
       "      <th></th>\n",
       "    </tr>\n",
       "  </thead>\n",
       "  <tbody>\n",
       "    <tr>\n",
       "      <th>0.0</th>\n",
       "      <td>328</td>\n",
       "    </tr>\n",
       "    <tr>\n",
       "      <th>1.0</th>\n",
       "      <td>49</td>\n",
       "    </tr>\n",
       "  </tbody>\n",
       "</table>\n",
       "</div>"
      ],
      "text/plain": [
       "            id\n",
       "diagnosis     \n",
       "0.0        328\n",
       "1.0         49"
      ]
     },
     "metadata": {},
     "output_type": "display_data"
    },
    {
     "name": "stdout",
     "output_type": "stream",
     "text": [
      "377 administrations left.\n"
     ]
    },
    {
     "data": {
      "text/html": [
       "<div>\n",
       "<style scoped>\n",
       "    .dataframe tbody tr th:only-of-type {\n",
       "        vertical-align: middle;\n",
       "    }\n",
       "\n",
       "    .dataframe tbody tr th {\n",
       "        vertical-align: top;\n",
       "    }\n",
       "\n",
       "    .dataframe thead th {\n",
       "        text-align: right;\n",
       "    }\n",
       "</style>\n",
       "<table border=\"1\" class=\"dataframe\">\n",
       "  <thead>\n",
       "    <tr style=\"text-align: right;\">\n",
       "      <th></th>\n",
       "      <th>id</th>\n",
       "    </tr>\n",
       "    <tr>\n",
       "      <th>diagnosis</th>\n",
       "      <th></th>\n",
       "    </tr>\n",
       "  </thead>\n",
       "  <tbody>\n",
       "    <tr>\n",
       "      <th>0.0</th>\n",
       "      <td>328</td>\n",
       "    </tr>\n",
       "    <tr>\n",
       "      <th>1.0</th>\n",
       "      <td>49</td>\n",
       "    </tr>\n",
       "  </tbody>\n",
       "</table>\n",
       "</div>"
      ],
      "text/plain": [
       "            id\n",
       "diagnosis     \n",
       "0.0        328\n",
       "1.0         49"
      ]
     },
     "metadata": {},
     "output_type": "display_data"
    },
    {
     "name": "stdout",
     "output_type": "stream",
     "text": [
      "377 administrations left.\n"
     ]
    },
    {
     "data": {
      "text/html": [
       "<div>\n",
       "<style scoped>\n",
       "    .dataframe tbody tr th:only-of-type {\n",
       "        vertical-align: middle;\n",
       "    }\n",
       "\n",
       "    .dataframe tbody tr th {\n",
       "        vertical-align: top;\n",
       "    }\n",
       "\n",
       "    .dataframe thead th {\n",
       "        text-align: right;\n",
       "    }\n",
       "</style>\n",
       "<table border=\"1\" class=\"dataframe\">\n",
       "  <thead>\n",
       "    <tr style=\"text-align: right;\">\n",
       "      <th></th>\n",
       "      <th>id</th>\n",
       "    </tr>\n",
       "    <tr>\n",
       "      <th>diagnosis</th>\n",
       "      <th></th>\n",
       "    </tr>\n",
       "  </thead>\n",
       "  <tbody>\n",
       "    <tr>\n",
       "      <th>0.0</th>\n",
       "      <td>328</td>\n",
       "    </tr>\n",
       "    <tr>\n",
       "      <th>1.0</th>\n",
       "      <td>49</td>\n",
       "    </tr>\n",
       "  </tbody>\n",
       "</table>\n",
       "</div>"
      ],
      "text/plain": [
       "            id\n",
       "diagnosis     \n",
       "0.0        328\n",
       "1.0         49"
      ]
     },
     "metadata": {},
     "output_type": "display_data"
    },
    {
     "name": "stdout",
     "output_type": "stream",
     "text": [
      "377 administrations left.\n"
     ]
    },
    {
     "data": {
      "text/html": [
       "<div>\n",
       "<style scoped>\n",
       "    .dataframe tbody tr th:only-of-type {\n",
       "        vertical-align: middle;\n",
       "    }\n",
       "\n",
       "    .dataframe tbody tr th {\n",
       "        vertical-align: top;\n",
       "    }\n",
       "\n",
       "    .dataframe thead th {\n",
       "        text-align: right;\n",
       "    }\n",
       "</style>\n",
       "<table border=\"1\" class=\"dataframe\">\n",
       "  <thead>\n",
       "    <tr style=\"text-align: right;\">\n",
       "      <th></th>\n",
       "      <th>id</th>\n",
       "    </tr>\n",
       "    <tr>\n",
       "      <th>diagnosis</th>\n",
       "      <th></th>\n",
       "    </tr>\n",
       "  </thead>\n",
       "  <tbody>\n",
       "    <tr>\n",
       "      <th>0.0</th>\n",
       "      <td>328</td>\n",
       "    </tr>\n",
       "    <tr>\n",
       "      <th>1.0</th>\n",
       "      <td>49</td>\n",
       "    </tr>\n",
       "  </tbody>\n",
       "</table>\n",
       "</div>"
      ],
      "text/plain": [
       "            id\n",
       "diagnosis     \n",
       "0.0        328\n",
       "1.0         49"
      ]
     },
     "metadata": {},
     "output_type": "display_data"
    },
    {
     "name": "stdout",
     "output_type": "stream",
     "text": [
      "377 administrations left.\n"
     ]
    },
    {
     "data": {
      "text/html": [
       "<div>\n",
       "<style scoped>\n",
       "    .dataframe tbody tr th:only-of-type {\n",
       "        vertical-align: middle;\n",
       "    }\n",
       "\n",
       "    .dataframe tbody tr th {\n",
       "        vertical-align: top;\n",
       "    }\n",
       "\n",
       "    .dataframe thead th {\n",
       "        text-align: right;\n",
       "    }\n",
       "</style>\n",
       "<table border=\"1\" class=\"dataframe\">\n",
       "  <thead>\n",
       "    <tr style=\"text-align: right;\">\n",
       "      <th></th>\n",
       "      <th>id</th>\n",
       "    </tr>\n",
       "    <tr>\n",
       "      <th>diagnosis</th>\n",
       "      <th></th>\n",
       "    </tr>\n",
       "  </thead>\n",
       "  <tbody>\n",
       "    <tr>\n",
       "      <th>0.0</th>\n",
       "      <td>328</td>\n",
       "    </tr>\n",
       "    <tr>\n",
       "      <th>1.0</th>\n",
       "      <td>49</td>\n",
       "    </tr>\n",
       "  </tbody>\n",
       "</table>\n",
       "</div>"
      ],
      "text/plain": [
       "            id\n",
       "diagnosis     \n",
       "0.0        328\n",
       "1.0         49"
      ]
     },
     "metadata": {},
     "output_type": "display_data"
    },
    {
     "name": "stdout",
     "output_type": "stream",
     "text": [
      "377 administrations left.\n"
     ]
    },
    {
     "data": {
      "text/html": [
       "<div>\n",
       "<style scoped>\n",
       "    .dataframe tbody tr th:only-of-type {\n",
       "        vertical-align: middle;\n",
       "    }\n",
       "\n",
       "    .dataframe tbody tr th {\n",
       "        vertical-align: top;\n",
       "    }\n",
       "\n",
       "    .dataframe thead th {\n",
       "        text-align: right;\n",
       "    }\n",
       "</style>\n",
       "<table border=\"1\" class=\"dataframe\">\n",
       "  <thead>\n",
       "    <tr style=\"text-align: right;\">\n",
       "      <th></th>\n",
       "      <th>id</th>\n",
       "    </tr>\n",
       "    <tr>\n",
       "      <th>diagnosis</th>\n",
       "      <th></th>\n",
       "    </tr>\n",
       "  </thead>\n",
       "  <tbody>\n",
       "    <tr>\n",
       "      <th>0.0</th>\n",
       "      <td>328</td>\n",
       "    </tr>\n",
       "    <tr>\n",
       "      <th>1.0</th>\n",
       "      <td>49</td>\n",
       "    </tr>\n",
       "  </tbody>\n",
       "</table>\n",
       "</div>"
      ],
      "text/plain": [
       "            id\n",
       "diagnosis     \n",
       "0.0        328\n",
       "1.0         49"
      ]
     },
     "metadata": {},
     "output_type": "display_data"
    },
    {
     "name": "stdout",
     "output_type": "stream",
     "text": [
      "377 administrations left.\n"
     ]
    },
    {
     "data": {
      "text/html": [
       "<div>\n",
       "<style scoped>\n",
       "    .dataframe tbody tr th:only-of-type {\n",
       "        vertical-align: middle;\n",
       "    }\n",
       "\n",
       "    .dataframe tbody tr th {\n",
       "        vertical-align: top;\n",
       "    }\n",
       "\n",
       "    .dataframe thead th {\n",
       "        text-align: right;\n",
       "    }\n",
       "</style>\n",
       "<table border=\"1\" class=\"dataframe\">\n",
       "  <thead>\n",
       "    <tr style=\"text-align: right;\">\n",
       "      <th></th>\n",
       "      <th>id</th>\n",
       "    </tr>\n",
       "    <tr>\n",
       "      <th>diagnosis</th>\n",
       "      <th></th>\n",
       "    </tr>\n",
       "  </thead>\n",
       "  <tbody>\n",
       "    <tr>\n",
       "      <th>0.0</th>\n",
       "      <td>328</td>\n",
       "    </tr>\n",
       "    <tr>\n",
       "      <th>1.0</th>\n",
       "      <td>49</td>\n",
       "    </tr>\n",
       "  </tbody>\n",
       "</table>\n",
       "</div>"
      ],
      "text/plain": [
       "            id\n",
       "diagnosis     \n",
       "0.0        328\n",
       "1.0         49"
      ]
     },
     "metadata": {},
     "output_type": "display_data"
    },
    {
     "name": "stdout",
     "output_type": "stream",
     "text": [
      "377 administrations left.\n"
     ]
    },
    {
     "data": {
      "text/html": [
       "<div>\n",
       "<style scoped>\n",
       "    .dataframe tbody tr th:only-of-type {\n",
       "        vertical-align: middle;\n",
       "    }\n",
       "\n",
       "    .dataframe tbody tr th {\n",
       "        vertical-align: top;\n",
       "    }\n",
       "\n",
       "    .dataframe thead th {\n",
       "        text-align: right;\n",
       "    }\n",
       "</style>\n",
       "<table border=\"1\" class=\"dataframe\">\n",
       "  <thead>\n",
       "    <tr style=\"text-align: right;\">\n",
       "      <th></th>\n",
       "      <th>id</th>\n",
       "    </tr>\n",
       "    <tr>\n",
       "      <th>diagnosis</th>\n",
       "      <th></th>\n",
       "    </tr>\n",
       "  </thead>\n",
       "  <tbody>\n",
       "    <tr>\n",
       "      <th>0.0</th>\n",
       "      <td>328</td>\n",
       "    </tr>\n",
       "    <tr>\n",
       "      <th>1.0</th>\n",
       "      <td>49</td>\n",
       "    </tr>\n",
       "  </tbody>\n",
       "</table>\n",
       "</div>"
      ],
      "text/plain": [
       "            id\n",
       "diagnosis     \n",
       "0.0        328\n",
       "1.0         49"
      ]
     },
     "metadata": {},
     "output_type": "display_data"
    },
    {
     "name": "stdout",
     "output_type": "stream",
     "text": [
      "377 administrations left.\n"
     ]
    },
    {
     "data": {
      "text/html": [
       "<div>\n",
       "<style scoped>\n",
       "    .dataframe tbody tr th:only-of-type {\n",
       "        vertical-align: middle;\n",
       "    }\n",
       "\n",
       "    .dataframe tbody tr th {\n",
       "        vertical-align: top;\n",
       "    }\n",
       "\n",
       "    .dataframe thead th {\n",
       "        text-align: right;\n",
       "    }\n",
       "</style>\n",
       "<table border=\"1\" class=\"dataframe\">\n",
       "  <thead>\n",
       "    <tr style=\"text-align: right;\">\n",
       "      <th></th>\n",
       "      <th>id</th>\n",
       "    </tr>\n",
       "    <tr>\n",
       "      <th>diagnosis</th>\n",
       "      <th></th>\n",
       "    </tr>\n",
       "  </thead>\n",
       "  <tbody>\n",
       "    <tr>\n",
       "      <th>0.0</th>\n",
       "      <td>328</td>\n",
       "    </tr>\n",
       "    <tr>\n",
       "      <th>1.0</th>\n",
       "      <td>49</td>\n",
       "    </tr>\n",
       "  </tbody>\n",
       "</table>\n",
       "</div>"
      ],
      "text/plain": [
       "            id\n",
       "diagnosis     \n",
       "0.0        328\n",
       "1.0         49"
      ]
     },
     "metadata": {},
     "output_type": "display_data"
    },
    {
     "name": "stdout",
     "output_type": "stream",
     "text": [
      "377 administrations left.\n"
     ]
    },
    {
     "data": {
      "text/html": [
       "<div>\n",
       "<style scoped>\n",
       "    .dataframe tbody tr th:only-of-type {\n",
       "        vertical-align: middle;\n",
       "    }\n",
       "\n",
       "    .dataframe tbody tr th {\n",
       "        vertical-align: top;\n",
       "    }\n",
       "\n",
       "    .dataframe thead th {\n",
       "        text-align: right;\n",
       "    }\n",
       "</style>\n",
       "<table border=\"1\" class=\"dataframe\">\n",
       "  <thead>\n",
       "    <tr style=\"text-align: right;\">\n",
       "      <th></th>\n",
       "      <th>id</th>\n",
       "    </tr>\n",
       "    <tr>\n",
       "      <th>diagnosis</th>\n",
       "      <th></th>\n",
       "    </tr>\n",
       "  </thead>\n",
       "  <tbody>\n",
       "    <tr>\n",
       "      <th>0.0</th>\n",
       "      <td>328</td>\n",
       "    </tr>\n",
       "    <tr>\n",
       "      <th>1.0</th>\n",
       "      <td>49</td>\n",
       "    </tr>\n",
       "  </tbody>\n",
       "</table>\n",
       "</div>"
      ],
      "text/plain": [
       "            id\n",
       "diagnosis     \n",
       "0.0        328\n",
       "1.0         49"
      ]
     },
     "metadata": {},
     "output_type": "display_data"
    },
    {
     "name": "stdout",
     "output_type": "stream",
     "text": [
      "377 administrations left.\n"
     ]
    },
    {
     "data": {
      "text/html": [
       "<div>\n",
       "<style scoped>\n",
       "    .dataframe tbody tr th:only-of-type {\n",
       "        vertical-align: middle;\n",
       "    }\n",
       "\n",
       "    .dataframe tbody tr th {\n",
       "        vertical-align: top;\n",
       "    }\n",
       "\n",
       "    .dataframe thead th {\n",
       "        text-align: right;\n",
       "    }\n",
       "</style>\n",
       "<table border=\"1\" class=\"dataframe\">\n",
       "  <thead>\n",
       "    <tr style=\"text-align: right;\">\n",
       "      <th></th>\n",
       "      <th>id</th>\n",
       "    </tr>\n",
       "    <tr>\n",
       "      <th>diagnosis</th>\n",
       "      <th></th>\n",
       "    </tr>\n",
       "  </thead>\n",
       "  <tbody>\n",
       "    <tr>\n",
       "      <th>0.0</th>\n",
       "      <td>328</td>\n",
       "    </tr>\n",
       "    <tr>\n",
       "      <th>1.0</th>\n",
       "      <td>49</td>\n",
       "    </tr>\n",
       "  </tbody>\n",
       "</table>\n",
       "</div>"
      ],
      "text/plain": [
       "            id\n",
       "diagnosis     \n",
       "0.0        328\n",
       "1.0         49"
      ]
     },
     "metadata": {},
     "output_type": "display_data"
    },
    {
     "name": "stdout",
     "output_type": "stream",
     "text": [
      "377 administrations left.\n"
     ]
    },
    {
     "data": {
      "text/html": [
       "<div>\n",
       "<style scoped>\n",
       "    .dataframe tbody tr th:only-of-type {\n",
       "        vertical-align: middle;\n",
       "    }\n",
       "\n",
       "    .dataframe tbody tr th {\n",
       "        vertical-align: top;\n",
       "    }\n",
       "\n",
       "    .dataframe thead th {\n",
       "        text-align: right;\n",
       "    }\n",
       "</style>\n",
       "<table border=\"1\" class=\"dataframe\">\n",
       "  <thead>\n",
       "    <tr style=\"text-align: right;\">\n",
       "      <th></th>\n",
       "      <th>id</th>\n",
       "    </tr>\n",
       "    <tr>\n",
       "      <th>diagnosis</th>\n",
       "      <th></th>\n",
       "    </tr>\n",
       "  </thead>\n",
       "  <tbody>\n",
       "    <tr>\n",
       "      <th>0.0</th>\n",
       "      <td>328</td>\n",
       "    </tr>\n",
       "    <tr>\n",
       "      <th>1.0</th>\n",
       "      <td>49</td>\n",
       "    </tr>\n",
       "  </tbody>\n",
       "</table>\n",
       "</div>"
      ],
      "text/plain": [
       "            id\n",
       "diagnosis     \n",
       "0.0        328\n",
       "1.0         49"
      ]
     },
     "metadata": {},
     "output_type": "display_data"
    },
    {
     "name": "stdout",
     "output_type": "stream",
     "text": [
      "377 administrations left.\n"
     ]
    },
    {
     "data": {
      "text/html": [
       "<div>\n",
       "<style scoped>\n",
       "    .dataframe tbody tr th:only-of-type {\n",
       "        vertical-align: middle;\n",
       "    }\n",
       "\n",
       "    .dataframe tbody tr th {\n",
       "        vertical-align: top;\n",
       "    }\n",
       "\n",
       "    .dataframe thead th {\n",
       "        text-align: right;\n",
       "    }\n",
       "</style>\n",
       "<table border=\"1\" class=\"dataframe\">\n",
       "  <thead>\n",
       "    <tr style=\"text-align: right;\">\n",
       "      <th></th>\n",
       "      <th>id</th>\n",
       "    </tr>\n",
       "    <tr>\n",
       "      <th>diagnosis</th>\n",
       "      <th></th>\n",
       "    </tr>\n",
       "  </thead>\n",
       "  <tbody>\n",
       "    <tr>\n",
       "      <th>0.0</th>\n",
       "      <td>328</td>\n",
       "    </tr>\n",
       "    <tr>\n",
       "      <th>1.0</th>\n",
       "      <td>49</td>\n",
       "    </tr>\n",
       "  </tbody>\n",
       "</table>\n",
       "</div>"
      ],
      "text/plain": [
       "            id\n",
       "diagnosis     \n",
       "0.0        328\n",
       "1.0         49"
      ]
     },
     "metadata": {},
     "output_type": "display_data"
    },
    {
     "name": "stdout",
     "output_type": "stream",
     "text": [
      "377 administrations left.\n"
     ]
    },
    {
     "data": {
      "text/html": [
       "<div>\n",
       "<style scoped>\n",
       "    .dataframe tbody tr th:only-of-type {\n",
       "        vertical-align: middle;\n",
       "    }\n",
       "\n",
       "    .dataframe tbody tr th {\n",
       "        vertical-align: top;\n",
       "    }\n",
       "\n",
       "    .dataframe thead th {\n",
       "        text-align: right;\n",
       "    }\n",
       "</style>\n",
       "<table border=\"1\" class=\"dataframe\">\n",
       "  <thead>\n",
       "    <tr style=\"text-align: right;\">\n",
       "      <th></th>\n",
       "      <th>id</th>\n",
       "    </tr>\n",
       "    <tr>\n",
       "      <th>diagnosis</th>\n",
       "      <th></th>\n",
       "    </tr>\n",
       "  </thead>\n",
       "  <tbody>\n",
       "    <tr>\n",
       "      <th>0.0</th>\n",
       "      <td>328</td>\n",
       "    </tr>\n",
       "    <tr>\n",
       "      <th>1.0</th>\n",
       "      <td>49</td>\n",
       "    </tr>\n",
       "  </tbody>\n",
       "</table>\n",
       "</div>"
      ],
      "text/plain": [
       "            id\n",
       "diagnosis     \n",
       "0.0        328\n",
       "1.0         49"
      ]
     },
     "metadata": {},
     "output_type": "display_data"
    },
    {
     "name": "stdout",
     "output_type": "stream",
     "text": [
      "377 administrations left.\n"
     ]
    },
    {
     "data": {
      "text/html": [
       "<div>\n",
       "<style scoped>\n",
       "    .dataframe tbody tr th:only-of-type {\n",
       "        vertical-align: middle;\n",
       "    }\n",
       "\n",
       "    .dataframe tbody tr th {\n",
       "        vertical-align: top;\n",
       "    }\n",
       "\n",
       "    .dataframe thead th {\n",
       "        text-align: right;\n",
       "    }\n",
       "</style>\n",
       "<table border=\"1\" class=\"dataframe\">\n",
       "  <thead>\n",
       "    <tr style=\"text-align: right;\">\n",
       "      <th></th>\n",
       "      <th>id</th>\n",
       "    </tr>\n",
       "    <tr>\n",
       "      <th>diagnosis</th>\n",
       "      <th></th>\n",
       "    </tr>\n",
       "  </thead>\n",
       "  <tbody>\n",
       "    <tr>\n",
       "      <th>0.0</th>\n",
       "      <td>328</td>\n",
       "    </tr>\n",
       "    <tr>\n",
       "      <th>1.0</th>\n",
       "      <td>49</td>\n",
       "    </tr>\n",
       "  </tbody>\n",
       "</table>\n",
       "</div>"
      ],
      "text/plain": [
       "            id\n",
       "diagnosis     \n",
       "0.0        328\n",
       "1.0         49"
      ]
     },
     "metadata": {},
     "output_type": "display_data"
    },
    {
     "name": "stdout",
     "output_type": "stream",
     "text": [
      "377 administrations left.\n"
     ]
    },
    {
     "data": {
      "text/html": [
       "<div>\n",
       "<style scoped>\n",
       "    .dataframe tbody tr th:only-of-type {\n",
       "        vertical-align: middle;\n",
       "    }\n",
       "\n",
       "    .dataframe tbody tr th {\n",
       "        vertical-align: top;\n",
       "    }\n",
       "\n",
       "    .dataframe thead th {\n",
       "        text-align: right;\n",
       "    }\n",
       "</style>\n",
       "<table border=\"1\" class=\"dataframe\">\n",
       "  <thead>\n",
       "    <tr style=\"text-align: right;\">\n",
       "      <th></th>\n",
       "      <th>id</th>\n",
       "    </tr>\n",
       "    <tr>\n",
       "      <th>diagnosis</th>\n",
       "      <th></th>\n",
       "    </tr>\n",
       "  </thead>\n",
       "  <tbody>\n",
       "    <tr>\n",
       "      <th>0.0</th>\n",
       "      <td>328</td>\n",
       "    </tr>\n",
       "    <tr>\n",
       "      <th>1.0</th>\n",
       "      <td>49</td>\n",
       "    </tr>\n",
       "  </tbody>\n",
       "</table>\n",
       "</div>"
      ],
      "text/plain": [
       "            id\n",
       "diagnosis     \n",
       "0.0        328\n",
       "1.0         49"
      ]
     },
     "metadata": {},
     "output_type": "display_data"
    },
    {
     "name": "stdout",
     "output_type": "stream",
     "text": [
      "377 administrations left.\n"
     ]
    },
    {
     "data": {
      "text/html": [
       "<div>\n",
       "<style scoped>\n",
       "    .dataframe tbody tr th:only-of-type {\n",
       "        vertical-align: middle;\n",
       "    }\n",
       "\n",
       "    .dataframe tbody tr th {\n",
       "        vertical-align: top;\n",
       "    }\n",
       "\n",
       "    .dataframe thead th {\n",
       "        text-align: right;\n",
       "    }\n",
       "</style>\n",
       "<table border=\"1\" class=\"dataframe\">\n",
       "  <thead>\n",
       "    <tr style=\"text-align: right;\">\n",
       "      <th></th>\n",
       "      <th>id</th>\n",
       "    </tr>\n",
       "    <tr>\n",
       "      <th>diagnosis</th>\n",
       "      <th></th>\n",
       "    </tr>\n",
       "  </thead>\n",
       "  <tbody>\n",
       "    <tr>\n",
       "      <th>0.0</th>\n",
       "      <td>328</td>\n",
       "    </tr>\n",
       "    <tr>\n",
       "      <th>1.0</th>\n",
       "      <td>49</td>\n",
       "    </tr>\n",
       "  </tbody>\n",
       "</table>\n",
       "</div>"
      ],
      "text/plain": [
       "            id\n",
       "diagnosis     \n",
       "0.0        328\n",
       "1.0         49"
      ]
     },
     "metadata": {},
     "output_type": "display_data"
    },
    {
     "name": "stdout",
     "output_type": "stream",
     "text": [
      "Done\n"
     ]
    }
   ],
   "source": [
    "DEFAULT_PREDICTORS = [# GAZE RELATED\n",
    "                 'mean_gaze_percent_right', #aggregated\n",
    "                 'gaze_silhouette_score', #aggregated\n",
    "                 'FP_gaze_speech_correlation',\n",
    "    \n",
    "                # NAME CALL RELATED\n",
    "                 'proportion_of_name_call_responses',\n",
    "                 'average_response_to_name_delay',\n",
    "\n",
    "    \n",
    "                # POSTURAL SWAY RELATED\n",
    "                 'S_postural_sway',  #aggregated\n",
    "                 'NS_postural_sway',  #aggregated\n",
    "                 'S_postural_sway_derivative',\n",
    "                 'NS_postural_sway_derivative',\n",
    "                 \n",
    "                 'S_postural_sway_complexity', \n",
    "                 'NS_postural_sway_complexity',\n",
    "                 \n",
    "                 # Facing Forward\n",
    "                 'S_facing_forward', \n",
    "                 'NS_facing_forward', \n",
    "                 \n",
    "                 # Facial complexity\n",
    "                 'S_eyebrows_complexity', \n",
    "                 'NS_eyebrows_complexity', \n",
    "                 'S_mouth_complexity', \n",
    "                 'NS_mouth_complexity',\n",
    "                 \n",
    "                # TOUCH RELATED\n",
    "                #'pop_rate', 'average_error', 'average_length', 'average_force_applied']\n",
    "                'pop_rate', 'std_error', 'average_length', 'average_force_applied']\n",
    "\n",
    "                #'std_error','number_of_touches','number_of_target','average_error']\n",
    "\n",
    "xgboost_hyperparameters = {'scale_pos_weight':True,#np.sum(data.y_train==0)/np.sum(data.y_train==1), \n",
    "                            'max_depth' : 3,\n",
    "                            'learning_rate' : 0.15, \n",
    "                            'gamma': 0.1,\n",
    "                            'n_estimators': 100,\n",
    "                            'min_child_weight': 1,\n",
    "                            'reg_lambda': 0.1}\n",
    "    \n",
    "    \n",
    "use_weight = True\n",
    "if use_weight:\n",
    "    weighted_confidence_score = np.load(os.path.join(DATA_DIR, 'multimodal_paper', 'weight_multimodal.npy'))\n",
    "else:\n",
    "    weighted_confidence_score = None\n",
    "    \n",
    "K = 50\n",
    "\n",
    "random_states = np.random.randint(0, 1000, K)\n",
    "\n",
    "for random_state in random_states:\n",
    "\n",
    "    df =  pd.read_csv(AUTISM_DATA_PATH)\n",
    "\n",
    "    data = Dataset(df=df, \n",
    "                   missing_data_handling='imputation',\n",
    "                   imputation_method='constant',\n",
    "                   sampling_method='without',\n",
    "                   scenario = 'multimodal_2023_regular', \n",
    "                   features_name = DEFAULT_PREDICTORS,\n",
    "                   scale_data=False, \n",
    "                   use_missing_indicator_variables=None,#USE_MISSING_INDICATOR_PREDICTORS,\n",
    "                   verbosity=0, \n",
    "                   proportion_train=1)\n",
    "\n",
    "    exp = Experiments(data.dataset_name,\n",
    "                      dataset=data, \n",
    "                      approach='xgboost', \n",
    "                      previous_experiment=None,        \n",
    "                      debug=False, \n",
    "                      experiment_folder_name='17_december_final_multomodal', \n",
    "                      model_hyperparameters=xgboost_hyperparameters,\n",
    "                      experiment_name = 'Multimodal {}'.format(feature_scenario),\n",
    "                      verbosity=0, \n",
    "                      save_experiment=True)\n",
    "\n",
    "    exp.fit_predict(num_cv=10, sample_weight=weighted_confidence_score, random_state=random_state)\n",
    "    #display(exp.performances_df)\n",
    "\n",
    "print(\"Done\")"
   ]
  },
  {
   "cell_type": "markdown",
   "id": "528a9618",
   "metadata": {},
   "source": [
    "**Baseline Results with std_error','number_of_touches','number_of_target','average_error'**"
   ]
  },
  {
   "cell_type": "code",
   "execution_count": 10,
   "id": "bd38f251",
   "metadata": {},
   "outputs": [
    {
     "name": "stderr",
     "output_type": "stream",
     "text": [
      "100%|██████████| 51/51 [00:13<00:00,  3.72it/s]\n"
     ]
    },
    {
     "data": {
      "text/plain": [
       "AUROC          0.87788\n",
       "Sensitivity    0.80820\n",
       "Specificity    0.82022\n",
       "dtype: float64"
      ]
     },
     "execution_count": 10,
     "metadata": {},
     "output_type": "execute_result"
    }
   ],
   "source": [
    "\n",
    "\n",
    "from utils import create_autism_df\n",
    "\n",
    "df = create_autism_df(folder_names = ['15_December_final_regular_weighted_K50'])#'13_november_bis'])#'November 2022'])\n",
    "#df['Hanley_CI'] = df['AUROC'] .apply(lambda x: compute_SD(x, 417, 50))\n",
    "df['tree_usage'] = df['tree_usage'].apply(lambda x: np.mean(x))\n",
    "df[['AUROC', 'Sensitivity', 'Specificity']].mean()"
   ]
  },
  {
   "cell_type": "markdown",
   "id": "66b51cdb",
   "metadata": {
    "heading_collapsed": "true",
    "tags": []
   },
   "source": [
    "### Result with Clinical Profile variables"
   ]
  },
  {
   "cell_type": "code",
   "execution_count": 18,
   "id": "763be852",
   "metadata": {},
   "outputs": [
    {
     "name": "stderr",
     "output_type": "stream",
     "text": [
      "100%|██████████| 25/25 [00:06<00:00,  3.77it/s]\n"
     ]
    },
    {
     "data": {
      "text/plain": [
       "AUROC          0.866167\n",
       "Sensitivity    0.818250\n",
       "Specificity    0.786375\n",
       "dtype: float64"
      ]
     },
     "execution_count": 18,
     "metadata": {},
     "output_type": "execute_result"
    }
   ],
   "source": [
    "df = create_autism_df(folder_names = ['15_december_touch_experiment_clinical_profile_features'])#'13_november_bis'])#'November 2022'])\n",
    "#df['Hanley_CI'] = df['AUROC'] .apply(lambda x: compute_SD(x, 417, 50))\n",
    "df['tree_usage'] = df['tree_usage'].apply(lambda x: np.mean(x))\n",
    "df[['AUROC', 'Sensitivity', 'Specificity']].mean()"
   ]
  },
  {
   "cell_type": "code",
   "execution_count": 19,
   "id": "7e3a0eca",
   "metadata": {},
   "outputs": [
    {
     "data": {
      "text/plain": [
       "(24, 377, 25, 25)"
      ]
     },
     "execution_count": 19,
     "metadata": {},
     "output_type": "execute_result"
    }
   ],
   "source": [
    "exp_path = '/home01/sam/notes_on_stats/doc/src/data/15_december_touch_experiment_clinical_profile_features/SenseToKnow/'\n",
    "json_paths = glob(os.path.join(exp_path, '*', 'experiment*.json'))\n",
    "i = 0\n",
    "shap_interactions_all_cv = []\n",
    "for json_path in json_paths:\n",
    "    #try:\n",
    "        \n",
    "    with open(json_path, 'r') as f:\n",
    "        data = json.load(f)\n",
    "\n",
    "    shap_interactions_all_cv.append([np.array(data['shap_interaction_value'])])\n",
    "    # except:\n",
    "    #     print(\"Error parsing json\")\n",
    "\n",
    "\n",
    "shap_interactions = np.concatenate(shap_interactions_all_cv)\n",
    "shap_values = shap_interactions.sum(axis=2)\n",
    "shap_values_n = shap_values / np.abs(shap_values).sum(axis=2)[:, :, np.newaxis]\n",
    "\n",
    "shap_values_averaged_n = shap_values_averaged / np.abs(shap_values_averaged).sum(axis=1)[:, np.newaxis]\n",
    "\n",
    "mask_shap_present = (~np.isnan(exp.dataset._X_train)).astype(int)\n",
    "shap_present = np.multiply(shap_values_averaged_n, mask_shap_present)\n",
    "shap_missing = np.multiply(shap_values_averaged_n, (mask_shap_present==0).astype(int))\n",
    "\n",
    "general_shap_values = np.concatenate([shap_present, shap_missing], axis=1)\n",
    "general_shap_values_normalized = np.abs(general_shap_values)/ np.abs(general_shap_values).sum(axis=1)[:, np.newaxis]\n",
    "features_importances_extended = general_shap_values_normalized.sum(axis=0)/general_shap_values_normalized.sum()\n",
    "\n",
    "\n",
    "labels = exp.features_name + [\"Z_{}\".format(feat_name) for feat_name in exp.features_name]       \n",
    "n_features = len(exp.features_name)\n",
    "\n",
    "#We first plot the present ones\n",
    "idx_sorting_present = list(reversed(np.argsort(features_importances_extended[:n_features])))\n",
    "\n",
    "fi(35, 5)\n",
    "plt.title(\"Features importance score accross the dataset (sum to 1)\")\n",
    "for i, feat in enumerate(np.array(exp.features_name)[idx_sorting_present]):\n",
    "    plt.bar(i, features_importances_extended[idx_sorting_present][i], color='tab:blue')\n",
    "    \n",
    "idx_sorting_missing = list(reversed(np.argsort(features_importances_extended[n_features:])))\n",
    "idx_sorting_missing = list(np.array(idx_sorting_missing) + n_features)\n",
    "#And then the missing ones\n",
    "for i, feat in enumerate(np.array(labels)[idx_sorting_missing]):\n",
    "    j = i + n_features\n",
    "    plt.bar(j, features_importances_extended[idx_sorting_missing][i], color='tab:blue')\n",
    "    \n",
    "    \n",
    "idx_sorting = idx_sorting_present + idx_sorting_missing\n",
    "plt.xticks(ticks = np.arange(features_importances_extended.shape[0]), labels=np.array(labels)[idx_sorting], rotation =90)\n",
    "None\n",
    "\n",
    "\n",
    "#percent_missing_importance_mean = (1 - features_importances_extended[:len(exp.features_name)].sum(axis=1)).mean()*100\n",
    "#percent_missing_importance_std =(1 - features_importances_extended[:len(exp.features_name)].sum(axis=1)).std()*100\n",
    "\n",
    "#print(\"The average (std) contribution of the variables being missing are: {:.2f}% (+/- {:.2f}%)\".format(percent_missing_importance_mean, percent_missing_importance_std))"
   ]
  },
  {
   "cell_type": "code",
   "execution_count": 38,
   "id": "6f65198d",
   "metadata": {},
   "outputs": [
    {
     "data": {
      "image/png": "[encoded data removed]",
      "text/plain": [
       "<Figure size 2520x360 with 1 Axes>"
      ]
     },
     "metadata": {
      "needs_background": "light"
     },
     "output_type": "display_data"
    }
   ],
   "source": []
  },
  {
   "cell_type": "markdown",
   "id": "974ca860",
   "metadata": {
    "heading_collapsed": "true",
    "tags": []
   },
   "source": [
    "### Result with Clinical Profile variables with explora replace with error"
   ]
  },
  {
   "cell_type": "code",
   "execution_count": 41,
   "id": "2d39c535",
   "metadata": {},
   "outputs": [
    {
     "name": "stderr",
     "output_type": "stream",
     "text": [
      "100%|██████████| 26/26 [00:06<00:00,  3.81it/s]\n"
     ]
    },
    {
     "data": {
      "text/plain": [
       "AUROC          0.86860\n",
       "Sensitivity    0.81724\n",
       "Specificity    0.78404\n",
       "dtype: float64"
      ]
     },
     "execution_count": 41,
     "metadata": {},
     "output_type": "execute_result"
    }
   ],
   "source": [
    "df = create_autism_df(folder_names = ['15_december_touch_experiment_clinical_profile_features_explo_to_error'])#'13_november_bis'])#'November 2022'])\n",
    "#df['Hanley_CI'] = df['AUROC'] .apply(lambda x: compute_SD(x, 417, 50))\n",
    "df['tree_usage'] = df['tree_usage'].apply(lambda x: np.mean(x))\n",
    "df[['AUROC', 'Sensitivity', 'Specificity']].mean()"
   ]
  },
  {
   "cell_type": "code",
   "execution_count": 42,
   "id": "85704e75",
   "metadata": {},
   "outputs": [
    {
     "data": {
      "image/png": "[encoded data removed]",
      "text/plain": [
       "<Figure size 2520x360 with 1 Axes>"
      ]
     },
     "metadata": {
      "needs_background": "light"
     },
     "output_type": "display_data"
    }
   ],
   "source": [
    "exp_path = '/home01/sam/notes_on_stats/doc/src/data/15_december_touch_experiment_clinical_profile_features_explo_to_error/SenseToKnow/'\n",
    "json_paths = glob(os.path.join(exp_path, '*', 'experiment*.json'))\n",
    "i = 0\n",
    "shap_interactions_all_cv = []\n",
    "for json_path in json_paths:\n",
    "    #try:\n",
    "        \n",
    "    with open(json_path, 'r') as f:\n",
    "        data = json.load(f)\n",
    "\n",
    "    shap_interactions_all_cv.append([np.array(data['shap_interaction_value'])])\n",
    "    # except:\n",
    "    #     print(\"Error parsing json\")\n",
    "\n",
    "\n",
    "shap_interactions = np.concatenate(shap_interactions_all_cv)\n",
    "shap_values = shap_interactions.sum(axis=2)\n",
    "shap_values_n = shap_values / np.abs(shap_values).sum(axis=2)[:, :, np.newaxis]\n",
    "shap_values_averaged = shap_values_n.mean(axis=0)\n",
    "shap_values_averaged_n = shap_values_averaged / np.abs(shap_values_averaged).sum(axis=1)[:, np.newaxis]\n",
    "\n",
    "mask_shap_present = (~np.isnan(exp.dataset._X_train)).astype(int)\n",
    "shap_present = np.multiply(shap_values_averaged_n, mask_shap_present)\n",
    "shap_missing = np.multiply(shap_values_averaged_n, (mask_shap_present==0).astype(int))\n",
    "\n",
    "general_shap_values = np.concatenate([shap_present, shap_missing], axis=1)\n",
    "general_shap_values_normalized = np.abs(general_shap_values)/ np.abs(general_shap_values).sum(axis=1)[:, np.newaxis]\n",
    "features_importances_extended = general_shap_values_normalized.sum(axis=0)/general_shap_values_normalized.sum()\n",
    "\n",
    "\n",
    "labels = exp.features_name + [\"Z_{}\".format(feat_name) for feat_name in exp.features_name]       \n",
    "n_features = len(exp.features_name)\n",
    "\n",
    "#We first plot the present ones\n",
    "idx_sorting_present = list(reversed(np.argsort(features_importances_extended[:n_features])))\n",
    "\n",
    "fi(35, 5)\n",
    "plt.title(\"Features importance score accross the dataset (sum to 1)\")\n",
    "for i, feat in enumerate(np.array(exp.features_name)[idx_sorting_present]):\n",
    "    plt.bar(i, features_importances_extended[idx_sorting_present][i], color='tab:blue')\n",
    "    \n",
    "idx_sorting_missing = list(reversed(np.argsort(features_importances_extended[n_features:])))\n",
    "idx_sorting_missing = list(np.array(idx_sorting_missing) + n_features)\n",
    "#And then the missing ones\n",
    "for i, feat in enumerate(np.array(labels)[idx_sorting_missing]):\n",
    "    j = i + n_features\n",
    "    plt.bar(j, features_importances_extended[idx_sorting_missing][i], color='tab:blue')\n",
    "    \n",
    "    \n",
    "idx_sorting = idx_sorting_present + idx_sorting_missing\n",
    "plt.xticks(ticks = np.arange(features_importances_extended.shape[0]), labels=np.array(labels)[idx_sorting], rotation =90)\n",
    "None\n",
    "\n",
    "\n",
    "#percent_missing_importance_mean = (1 - features_importances_extended[:len(exp.features_name)].sum(axis=1)).mean()*100\n",
    "#percent_missing_importance_std =(1 - features_importances_extended[:len(exp.features_name)].sum(axis=1)).std()*100\n",
    "\n",
    "#print(\"The average (std) contribution of the variables being missing are: {:.2f}% (+/- {:.2f}%)\".format(percent_missing_importance_mean, percent_missing_importance_std))"
   ]
  },
  {
   "cell_type": "markdown",
   "id": "ac11efbb",
   "metadata": {
    "tags": []
   },
   "source": [
    "### Result with Clinical Profile variables with cutom"
   ]
  },
  {
   "cell_type": "code",
   "execution_count": 44,
   "id": "a06e5bdb",
   "metadata": {},
   "outputs": [
    {
     "name": "stderr",
     "output_type": "stream",
     "text": [
      "100%|██████████| 26/26 [00:06<00:00,  3.85it/s]\n"
     ]
    },
    {
     "data": {
      "text/plain": [
       "AUROC          0.87988\n",
       "Sensitivity    0.81232\n",
       "Specificity    0.81892\n",
       "dtype: float64"
      ]
     },
     "execution_count": 44,
     "metadata": {},
     "output_type": "execute_result"
    }
   ],
   "source": [
    "df = create_autism_df(folder_names = ['15_december_touch_experiment_clinical_profile_features_custom'])#'13_november_bis'])#'November 2022'])\n",
    "#df['Hanley_CI'] = df['AUROC'] .apply(lambda x: compute_SD(x, 417, 50))\n",
    "df['tree_usage'] = df['tree_usage'].apply(lambda x: np.mean(x))\n",
    "df[['AUROC', 'Sensitivity', 'Specificity']].mean()"
   ]
  },
  {
   "cell_type": "code",
   "execution_count": 45,
   "id": "31542a58",
   "metadata": {
    "tags": []
   },
   "outputs": [
    {
     "data": {
      "image/png": "[encoded data removed]",
      "text/plain": [
       "<Figure size 2520x360 with 1 Axes>"
      ]
     },
     "metadata": {
      "needs_background": "light"
     },
     "output_type": "display_data"
    }
   ],
   "source": [
    "exp_path = '/home01/sam/notes_on_stats/doc/src/data/15_december_touch_experiment_clinical_profile_features_custom/SenseToKnow/'\n",
    "json_paths = glob(os.path.join(exp_path, '*', 'experiment*.json'))\n",
    "i = 0\n",
    "shap_interactions_all_cv = []\n",
    "for json_path in json_paths:\n",
    "    #try:\n",
    "        \n",
    "    with open(json_path, 'r') as f:\n",
    "        data = json.load(f)\n",
    "\n",
    "    shap_interactions_all_cv.append([np.array(data['shap_interaction_value'])])\n",
    "    # except:\n",
    "    #     print(\"Error parsing json\")\n",
    "\n",
    "\n",
    "shap_interactions = np.concatenate(shap_interactions_all_cv)\n",
    "shap_values = shap_interactions.sum(axis=2)\n",
    "shap_values_n = shap_values / np.abs(shap_values).sum(axis=2)[:, :, np.newaxis]\n",
    "\n",
    "shap_values_averaged_n = shap_values_averaged / np.abs(shap_values_averaged).sum(axis=1)[:, np.newaxis]\n",
    "\n",
    "mask_shap_present = (~np.isnan(exp.dataset._X_train)).astype(int)\n",
    "shap_present = np.multiply(shap_values_averaged_n, mask_shap_present)\n",
    "shap_missing = np.multiply(shap_values_averaged_n, (mask_shap_present==0).astype(int))\n",
    "\n",
    "general_shap_values = np.concatenate([shap_present, shap_missing], axis=1)\n",
    "general_shap_values_normalized = np.abs(general_shap_values)/ np.abs(general_shap_values).sum(axis=1)[:, np.newaxis]\n",
    "features_importances_extended = general_shap_values_normalized.sum(axis=0)/general_shap_values_normalized.sum()\n",
    "\n",
    "\n",
    "labels = exp.features_name + [\"Z_{}\".format(feat_name) for feat_name in exp.features_name]       \n",
    "n_features = len(exp.features_name)\n",
    "\n",
    "#We first plot the present ones\n",
    "idx_sorting_present = list(reversed(np.argsort(features_importances_extended[:n_features])))\n",
    "\n",
    "fi(35, 5)\n",
    "plt.title(\"Features importance score accross the dataset (sum to 1)\")\n",
    "for i, feat in enumerate(np.array(exp.features_name)[idx_sorting_present]):\n",
    "    plt.bar(i, features_importances_extended[idx_sorting_present][i], color='tab:blue')\n",
    "    \n",
    "idx_sorting_missing = list(reversed(np.argsort(features_importances_extended[n_features:])))\n",
    "idx_sorting_missing = list(np.array(idx_sorting_missing) + n_features)\n",
    "#And then the missing ones\n",
    "for i, feat in enumerate(np.array(labels)[idx_sorting_missing]):\n",
    "    j = i + n_features\n",
    "    plt.bar(j, features_importances_extended[idx_sorting_missing][i], color='tab:blue')\n",
    "    \n",
    "    \n",
    "idx_sorting = idx_sorting_present + idx_sorting_missing\n",
    "plt.xticks(ticks = np.arange(features_importances_extended.shape[0]), labels=np.array(labels)[idx_sorting], rotation =90)\n",
    "None\n",
    "\n",
    "\n",
    "#percent_missing_importance_mean = (1 - features_importances_extended[:len(exp.features_name)].sum(axis=1)).mean()*100\n",
    "#percent_missing_importance_std =(1 - features_importances_extended[:len(exp.features_name)].sum(axis=1)).std()*100\n",
    "\n",
    "#print(\"The average (std) contribution of the variables being missing are: {:.2f}% (+/- {:.2f}%)\".format(percent_missing_importance_mean, percent_missing_importance_std))"
   ]
  },
  {
   "cell_type": "code",
   "execution_count": 47,
   "id": "05cd5b18",
   "metadata": {},
   "outputs": [
    {
     "name": "stderr",
     "output_type": "stream",
     "text": [
      "100%|██████████| 26/26 [00:06<00:00,  4.05it/s]\n"
     ]
    },
    {
     "data": {
      "text/plain": [
       "AUROC          0.87808\n",
       "Sensitivity    0.81564\n",
       "Specificity    0.81572\n",
       "dtype: float64"
      ]
     },
     "execution_count": 47,
     "metadata": {},
     "output_type": "execute_result"
    }
   ],
   "source": [
    "df = create_autism_df(folder_names = ['15_december_touch_experiment_clinical_profile_features_custom_no_Z'])#'13_november_bis'])#'November 2022'])\n",
    "#df['Hanley_CI'] = df['AUROC'] .apply(lambda x: compute_SD(x, 417, 50))\n",
    "df['tree_usage'] = df['tree_usage'].apply(lambda x: np.mean(x))\n",
    "df[['AUROC', 'Sensitivity', 'Specificity']].mean()"
   ]
  },
  {
   "cell_type": "code",
   "execution_count": null,
   "id": "9ce188b5",
   "metadata": {},
   "outputs": [],
   "source": []
  },
  {
   "cell_type": "markdown",
   "id": "42ad335c",
   "metadata": {
    "heading_collapsed": "true",
    "tags": []
   },
   "source": [
    "# Exepriment. Classification using Z variables only (are missing watching stimulis potential predictors ?)"
   ]
  },
  {
   "cell_type": "code",
   "execution_count": 2,
   "id": "c4c322ca",
   "metadata": {},
   "outputs": [],
   "source": [
    "# Number of experiments when doing the CV\n",
    "K = 25"
   ]
  },
  {
   "cell_type": "code",
   "execution_count": 3,
   "id": "945768f3",
   "metadata": {},
   "outputs": [],
   "source": [
    "dict_missing_stimulis = {'PopTheBubbles': ['number_of_touches'],\n",
    "                         'FloatingBubbles': ['FB_postural_sway', 'FB_postural_sway_derivative'],\n",
    "                            'DogInGrassC': ['DIGC_postural_sway', 'DIGC_postural_sway_derivative'],\n",
    "                            'DogInGrassRRL': ['DIGRRL_postural_sway', 'DIGRRL_postural_sway_derivative'],\n",
    "                            'SpinningTop': ['ST_postural_sway', 'ST_postural_sway_derivative'],\n",
    "                            'PlayingWithBlocks': ['PWB_postural_sway', 'PWB_postural_sway_derivative'],\n",
    "                            'FunAtThePark': ['FP_postural_sway', 'FP_postural_sway_derivative',\n",
    "                                                'FP_gaze_speech_correlation', 'FP_gaze_silhouette_score'],\n",
    "                             'MechanicalPuppy': ['MP_postural_sway', 'MP_postural_sway_derivative'],\n",
    "                             'BlowingBubbles': ['BB_postural_sway', 'BB_postural_sway_derivative',\n",
    "                                                   'BB_gaze_percent_right', 'BB_gaze_percent_right'],\n",
    "                            'RhymesAndToys': ['RT_postural_sway', 'RT_postural_sway_derivative'],\n",
    "                             'MakeMeLaugh': ['MML_postural_sway', 'MML_postural_sway_derivative'],\n",
    "                             'RTNDelay': ['average_response_to_name_delay']}"
   ]
  },
  {
   "cell_type": "code",
   "execution_count": 4,
   "id": "d04f873e",
   "metadata": {},
   "outputs": [
    {
     "name": "stdout",
     "output_type": "stream",
     "text": [
      "377 administrations left.\n"
     ]
    },
    {
     "data": {
      "text/html": [
       "<div>\n",
       "<style scoped>\n",
       "    .dataframe tbody tr th:only-of-type {\n",
       "        vertical-align: middle;\n",
       "    }\n",
       "\n",
       "    .dataframe tbody tr th {\n",
       "        vertical-align: top;\n",
       "    }\n",
       "\n",
       "    .dataframe thead th {\n",
       "        text-align: right;\n",
       "    }\n",
       "</style>\n",
       "<table border=\"1\" class=\"dataframe\">\n",
       "  <thead>\n",
       "    <tr style=\"text-align: right;\">\n",
       "      <th></th>\n",
       "      <th>id</th>\n",
       "    </tr>\n",
       "    <tr>\n",
       "      <th>diagnosis</th>\n",
       "      <th></th>\n",
       "    </tr>\n",
       "  </thead>\n",
       "  <tbody>\n",
       "    <tr>\n",
       "      <th>0.0</th>\n",
       "      <td>328</td>\n",
       "    </tr>\n",
       "    <tr>\n",
       "      <th>1.0</th>\n",
       "      <td>49</td>\n",
       "    </tr>\n",
       "  </tbody>\n",
       "</table>\n",
       "</div>"
      ],
      "text/plain": [
       "            id\n",
       "diagnosis     \n",
       "0.0        328\n",
       "1.0         49"
      ]
     },
     "metadata": {},
     "output_type": "display_data"
    },
    {
     "name": "stdout",
     "output_type": "stream",
     "text": [
      "Predicting diagnosis based on 12 features using xgboost approach.\n",
      "Performing 10 fold cross-validation.\n",
      "10-fold Cross-Validation.\n",
      "Size Train: 339 (295 NT 44 ASD) Test: 38 (33 NT 5 ASD)\n"
     ]
    }
   ],
   "source": [
    "df =  pd.read_csv(AUTISM_DATA_PATH)\n",
    "\n",
    "for feature_name_grouped, feats in dict_missing_stimulis.items():\n",
    "    df['Z_{}'.format(feature_name_grouped)] = 0\n",
    "    df.loc[df.drop(index=df.dropna(subset=feats, how='any').index).index, 'Z_{}'.format(feature_name_grouped)] = 1\n",
    "\n",
    "data = Dataset(df=df, \n",
    "               missing_data_handling='without', \n",
    "               imputation_method='without', \n",
    "               sampling_method='without',\n",
    "               outcome_column='diagnosis',\n",
    "                features_name = ['Z_'+ i for i in dict_missing_stimulis.keys()], \n",
    "                scale_data=False,\n",
    "                use_missing_indicator_variables=False, \n",
    "               verbosity=1,\n",
    "               scenario='multimodal_2023_regular',#'papers',\n",
    "               proportion_train=1)\n",
    "\n",
    "exp = Experiments(data.dataset_name,\n",
    "                  dataset=data, \n",
    "                  approach='xgboost', \n",
    "                  previous_experiment=None,        \n",
    "                  debug=False, \n",
    "                  experiment_name = 'Z_stimulis',\n",
    "                   model_hyperparameters=xgboost_hyperparameters,\n",
    "                  verbosity=3, \n",
    "                  experiment_folder_name='7_December', \n",
    "                  save_experiment=False)\n",
    "exp.fit_predict(num_cv=10, random_state=100)"
   ]
  },
  {
   "cell_type": "code",
   "execution_count": 5,
   "id": "ca983dbb",
   "metadata": {},
   "outputs": [
    {
     "data": {
      "text/html": [
       "<div>\n",
       "<style scoped>\n",
       "    .dataframe tbody tr th:only-of-type {\n",
       "        vertical-align: middle;\n",
       "    }\n",
       "\n",
       "    .dataframe tbody tr th {\n",
       "        vertical-align: top;\n",
       "    }\n",
       "\n",
       "    .dataframe thead th {\n",
       "        text-align: right;\n",
       "    }\n",
       "</style>\n",
       "<table border=\"1\" class=\"dataframe\">\n",
       "  <thead>\n",
       "    <tr style=\"text-align: right;\">\n",
       "      <th></th>\n",
       "      <th>experiment_name</th>\n",
       "      <th>AUROC</th>\n",
       "      <th>AUC-PR</th>\n",
       "      <th>AUC-PR-Gain</th>\n",
       "      <th>AUC-PR-Corrected</th>\n",
       "      <th>AUC-PR-Gain-Corrected</th>\n",
       "      <th>F1 score (2 PPVxTPR/(PPV+TPR))</th>\n",
       "      <th>F1 score Corrected</th>\n",
       "      <th>F2</th>\n",
       "      <th>F2 Corrected</th>\n",
       "      <th>Accuracy</th>\n",
       "      <th>Matthews correlation coefficient (MCC)</th>\n",
       "      <th>Sensitivity, recall, hit rate, or true positive rate (TPR)</th>\n",
       "      <th>Specificity, selectivity or true negative rate (TNR)</th>\n",
       "      <th>Precision or positive predictive value (PPV)</th>\n",
       "      <th>Corrected Precision or positive predictive value (PPV)</th>\n",
       "      <th>Negative predictive value (NPV)</th>\n",
       "      <th>Miss rate or false negative rate (FNR)</th>\n",
       "      <th>False discovery rate (FDR=1-PPV)</th>\n",
       "      <th>False omission rate (FOR=1-NPV)</th>\n",
       "      <th>TP</th>\n",
       "      <th>TN</th>\n",
       "      <th>FP</th>\n",
       "      <th>FN</th>\n",
       "    </tr>\n",
       "  </thead>\n",
       "  <tbody>\n",
       "    <tr>\n",
       "      <th>0</th>\n",
       "      <td>Z_stimulis</td>\n",
       "      <td>0.431</td>\n",
       "      <td>0.159</td>\n",
       "      <td>0.046</td>\n",
       "      <td>0.034</td>\n",
       "      <td>0.712</td>\n",
       "      <td>0.428</td>\n",
       "      <td>0.044</td>\n",
       "      <td>0.428</td>\n",
       "      <td>0.104</td>\n",
       "      <td>0.135</td>\n",
       "      <td>-0.037</td>\n",
       "      <td>0.98</td>\n",
       "      <td>0.009</td>\n",
       "      <td>0.129</td>\n",
       "      <td>0.022</td>\n",
       "      <td>0.75</td>\n",
       "      <td>0.02</td>\n",
       "      <td>0.871</td>\n",
       "      <td>0.25</td>\n",
       "      <td>48</td>\n",
       "      <td>3</td>\n",
       "      <td>325</td>\n",
       "      <td>1</td>\n",
       "    </tr>\n",
       "  </tbody>\n",
       "</table>\n",
       "</div>"
      ],
      "text/plain": [
       "  experiment_name  AUROC  AUC-PR  AUC-PR-Gain  AUC-PR-Corrected  AUC-PR-Gain-Corrected  F1 score (2 PPVxTPR/(PPV+TPR))  F1 score Corrected     F2  F2 Corrected  Accuracy  Matthews correlation coefficient (MCC)  Sensitivity, recall, hit rate, or true positive rate (TPR)  Specificity, selectivity or true negative rate (TNR)  Precision or positive predictive value (PPV)  Corrected Precision or positive predictive value (PPV)  Negative predictive value (NPV)  Miss rate or false negative rate (FNR)  False discovery rate (FDR=1-PPV)  False omission rate (FOR=1-NPV)  TP  TN   FP  FN\n",
       "0      Z_stimulis  0.431   0.159        0.046             0.034                  0.712                           0.428               0.044  0.428         0.104     0.135                                  -0.037                                               0.98                                                       0.009                                            0.129                                              0.022                                  0.75                                    0.02                             0.871                             0.25  48   3  325   1"
      ]
     },
     "metadata": {},
     "output_type": "display_data"
    },
    {
     "data": {
      "image/png": "[encoded data removed]",
      "text/plain": [
       "<Figure size 1800x864 with 4 Axes>"
      ]
     },
     "metadata": {
      "needs_background": "light"
     },
     "output_type": "display_data"
    }
   ],
   "source": [
    "exp.plot()"
   ]
  }
 ],
 "metadata": {
  "kernelspec": {
   "display_name": "combinations",
   "language": "python",
   "name": "combinations"
  },
  "language_info": {
   "codemirror_mode": {
    "name": "ipython",
    "version": 3
   },
   "file_extension": ".py",
   "mimetype": "text/x-python",
   "name": "python",
   "nbconvert_exporter": "python",
   "pygments_lexer": "ipython3",
   "version": "3.7.11"
  }
 },
 "nbformat": 4,
 "nbformat_minor": 5
}
