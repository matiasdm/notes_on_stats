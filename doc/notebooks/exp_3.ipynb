{
 "cells": [
  {
   "cell_type": "markdown",
   "metadata": {},
   "source": [
    "# Experiment on the encoding and imputing technics for the Nam network, with and without Z ! "
   ]
  },
  {
   "cell_type": "code",
   "execution_count": 4,
   "metadata": {
    "ExecuteTime": {
     "end_time": "2021-04-09T12:40:49.928163Z",
     "start_time": "2021-04-09T12:40:49.889528Z"
    },
    "tags": [
     "hide-cell",
     "remove-output"
    ]
   },
   "outputs": [
    {
     "name": "stdout",
     "output_type": "stream",
     "text": [
      "The autoreload extension is already loaded. To reload it, use:\n",
      "  %reload_ext autoreload\n",
      "Done.\n"
     ]
    }
   ],
   "source": [
    "run init.ipynb"
   ]
  },
  {
   "cell_type": "markdown",
   "metadata": {},
   "source": [
    "**`NAN` Second set of experiments deciding whether `encoding or imputing`**"
   ]
  },
  {
   "cell_type": "code",
   "execution_count": 6,
   "metadata": {},
   "outputs": [],
   "source": [
    "\"\"\"  Parameters of the experiment \"\"\"\n",
    "approach = 'nam'\n",
    "\n",
    "range_dataset_name = ['blobs', 'circles', 'moons']\n",
    "range_ratio_of_missing_values = [0., 0.1, 0.2, 0.3]\n",
    "range_ratio_missing_per_class = [[0,0.25], [0.1, 0.3]]\n",
    "range_imbalance_ratio = [0.1, 0.25, 0.5]\n",
    "range_missingness_pattern = [1, 3, 4, 5]\n",
    "\n",
    "range_missing_data_handling = ['encoding'] #TODO THIS IS WHERE WE SHOULD DO IMUTING BASED ON THE  OTHER EXPERIMENT\n",
    "imputation_method = 'without'\n",
    "range_use_missing_indicator_variables = False\n",
    "\n",
    "\n"
   ]
  },
  {
   "cell_type": "code",
   "execution_count": 7,
   "metadata": {},
   "outputs": [
    {
     "ename": "NameError",
     "evalue": "name 'df' is not defined",
     "output_type": "error",
     "traceback": [
      "\u001b[0;31m---------------------------------------------------------------------------\u001b[0m",
      "\u001b[0;31mNameError\u001b[0m                                 Traceback (most recent call last)",
      "\u001b[0;32m<ipython-input-7-b5d28fb75ea4>\u001b[0m in \u001b[0;36m<module>\u001b[0;34m\u001b[0m\n\u001b[1;32m     34\u001b[0m \u001b[0;34m\u001b[0m\u001b[0m\n\u001b[1;32m     35\u001b[0m \u001b[0;34m\u001b[0m\u001b[0m\n\u001b[0;32m---> 36\u001b[0;31m                     if check_experiment_already_done(df, \n\u001b[0m\u001b[1;32m     37\u001b[0m                                                       \u001b[0mdataset_name\u001b[0m\u001b[0;34m=\u001b[0m\u001b[0mdataset_name\u001b[0m\u001b[0;34m,\u001b[0m\u001b[0;34m\u001b[0m\u001b[0;34m\u001b[0m\u001b[0m\n\u001b[1;32m     38\u001b[0m                                                       \u001b[0mimbalance_ratio\u001b[0m\u001b[0;34m=\u001b[0m\u001b[0mimbalance_ratio\u001b[0m\u001b[0;34m,\u001b[0m\u001b[0;34m\u001b[0m\u001b[0;34m\u001b[0m\u001b[0m\n",
      "\u001b[0;31mNameError\u001b[0m: name 'df' is not defined"
     ]
    }
   ],
   "source": [
    "\"\"\"  Fix parameters \"\"\"\n",
    "#Dataset default parameters\n",
    "num_samples = NUM_SAMPLES\n",
    "\n",
    "# pdf estimation default parameters\n",
    "resolution = RESOLUTION\n",
    "bandwidth = BANDWIDTH\n",
    "\n",
    "# Classification default parameters\n",
    "proportion_train = PROPORTION_TRAIN\n",
    "\n",
    "# Verbosity\n",
    "verbosity=0\n",
    "\n",
    "\n",
    "\n",
    "save=False\n",
    "\n",
    "missingness_dictionnary = {1: (range_ratio_of_missing_values, len(range_ratio_of_missing_values)*[None]),\n",
    "                           2: (range_ratio_of_missing_values, len(range_ratio_of_missing_values)*[None]),\n",
    "                           3: (range_ratio_of_missing_values, len(range_ratio_of_missing_values)*[None]),\n",
    "                           4: (len(range_ratio_missing_per_class)*[None], range_ratio_missing_per_class),\n",
    "                           5: (len(range_ratio_missing_per_class)*[None], range_ratio_missing_per_class)}\n",
    "\n",
    "for dataset_name in range_dataset_name:\n",
    "    \n",
    "    for imbalance_ratio in range_imbalance_ratio:\n",
    "        \n",
    "        for missing_data_handling in range_missing_data_handling:\n",
    "\n",
    "            for missingness_pattern, (ratio_of_missing_values_list, ratio_missing_per_class_list) in missingness_dictionnary.items():\n",
    "\n",
    "                for ratio_of_missing_values, ratio_missing_per_class in zip(ratio_of_missing_values_list, ratio_missing_per_class_list):\n",
    "\n",
    "\n",
    "                    if check_experiment_already_done(df, \n",
    "                                                      dataset_name=dataset_name, \n",
    "                                                      imbalance_ratio=imbalance_ratio, \n",
    "                                                      missingness_pattern=missingness_pattern, \n",
    "                                                      imputattion_method=imputattion_method,\n",
    "                                                      use_missing_indicator_variables=use_missing_indicator_variables,\n",
    "                                                      ratio_of_missing_values=ratio_of_missing_values, \n",
    "                                                      ratio_missing_per_class=ratio_missing_per_class):\n",
    "\n",
    "\n",
    "                        print(\"Experiment already done.\")\n",
    "                        continue\n",
    "\n",
    "                    print(\"{} - imputation method: {} missing_data_handling: {} imbalance: {} pattern: {} ratio_missing:{} ratio_per_class: {}\".format(dataset_name, \n",
    "                                                                                                                                                        missing_data_handling,\n",
    "                                                                                                                                                          imputation_method, \n",
    "                                                                                                                                                          imbalance_ratio,\n",
    "                                                                                                                                                          missingness_pattern,\n",
    "                                                                                                                                                          ratio_of_missing_values, \n",
    "                                                                                                                                                          ratio_missing_per_class))\n",
    "\n",
    "                    start_time = time()\n",
    "\n",
    "                    dataset = DatasetGenerator(dataset_name=dataset_name, \n",
    "                                            num_samples=num_samples, \n",
    "                                            imbalance_ratio=imbalance_ratio, \n",
    "                                            missing_data_handling=missing_data_handling,\n",
    "                                            imputation_method=imputation_method,\n",
    "                                            verbosity=verbosity)\n",
    "\n",
    "                    # Creation of the missingness\n",
    "                    dataset.generate_missing_coordinates(missingness_pattern=missingness_pattern, \n",
    "                                                         ratio_of_missing_values=ratio_of_missing_values, \n",
    "                                                         ratio_missing_per_class=ratio_missing_per_class)\n",
    "\n",
    "                    dataset.split_test_train()\n",
    "\n",
    "                    # Create the experiments\n",
    "                    exp = Experiments(dataset_name, \n",
    "                                      dataset=dataset, \n",
    "                                      purpose='classification', \n",
    "                                      approach = approach, \n",
    "                                      previous_experiment=None, \n",
    "                                      save_experiment=save, \n",
    "                                      verbosity=verbosity, \n",
    "                                      debug=False, \n",
    "                                      proportion_train=PROPORTION_TRAIN, \n",
    "                                      resolution=RESOLUTION, \n",
    "                                      bandwidth=BANDWIDTH,\n",
    "                                      random_state=RANDOM_STATE)\n",
    "\n",
    "\n",
    "                    # Estimate the distributions \n",
    "                    exp.fit()\n",
    "\n",
    "                    # Estimate the distributions \n",
    "                    exp.predict()\n",
    "\n",
    "                    # Plot results\n",
    "                    #exp.plot()\n",
    "\n",
    "\n",
    "                    end_time = time()\n",
    "\n",
    "                    hours, rest = divmod(end_time - start_time, 3600)\n",
    "                    minutes, seconds = divmod(rest, 60)\n",
    "                    print(\"Done ({}h {}m and {:.2f}s).\\n\".format(int(hours), int(minutes), seconds))\n",
    "                #except:\n",
    "                #    print(\"/!\\. Error!\\n\")\n"
   ]
  },
  {
   "cell_type": "code",
   "execution_count": null,
   "metadata": {},
   "outputs": [],
   "source": []
  }
 ],
 "metadata": {
  "celltoolbar": "Tags",
  "kernelspec": {
   "display_name": "combinations",
   "language": "python",
   "name": "combinations"
  },
  "language_info": {
   "codemirror_mode": {
    "name": "ipython",
    "version": 3
   },
   "file_extension": ".py",
   "mimetype": "text/x-python",
   "name": "python",
   "nbconvert_exporter": "python",
   "pygments_lexer": "ipython3",
   "version": "3.7.12"
  },
  "toc": {
   "base_numbering": 1,
   "nav_menu": {},
   "number_sections": true,
   "sideBar": true,
   "skip_h1_title": false,
   "title_cell": "Table of Contents",
   "title_sidebar": "Contents",
   "toc_cell": false,
   "toc_position": {
    "height": "calc(100% - 180px)",
    "left": "10px",
    "top": "150px",
    "width": "321.771px"
   },
   "toc_section_display": true,
   "toc_window_display": true
  },
  "varInspector": {
   "cols": {
    "lenName": 16,
    "lenType": 16,
    "lenVar": 40
   },
   "kernels_config": {
    "python": {
     "delete_cmd_postfix": "",
     "delete_cmd_prefix": "del ",
     "library": "var_list.py",
     "varRefreshCmd": "print(var_dic_list())"
    },
    "r": {
     "delete_cmd_postfix": ") ",
     "delete_cmd_prefix": "rm(",
     "library": "var_list.r",
     "varRefreshCmd": "cat(var_dic_list()) "
    }
   },
   "types_to_exclude": [
    "module",
    "function",
    "builtin_function_or_method",
    "instance",
    "_Feature"
   ],
   "window_display": false
  }
 },
 "nbformat": 4,
 "nbformat_minor": 4
}
