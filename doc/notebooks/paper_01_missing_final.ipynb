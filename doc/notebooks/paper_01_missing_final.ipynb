{
 "cells": [
  {
   "cell_type": "markdown",
   "id": "025d10ea",
   "metadata": {},
   "source": [
    "# Analysis of the autism data\n",
    "\n",
    "\n",
    "The objective of this notebook is to identify the CVA variable whom the missignness may be associated with the diagnosis. \n",
    "The hypothesis underlying the treatment of missing variables among the predictors is important as it can biased the estimated models and their prediction. \n",
    "One want to know whether the CVA variables should rather be hypothesized as Missing Completely at Random (MNAR; in which case it is not necessary to model their missignness as it could add noise to the model, we might event prevent the model to use such missingness as predictors (for post-hoc model interpretability analysis, we must control that the significant predictors of the diagnosis are not the missingness of MCAR variable), Missing at Random (MAR; in which case we also do not want to add the information thta it is missing explicitely, but rather model it implicitely by design of the algorithm (if one feature is missing, it might not directly  associated with the final diagnosis, but could condition the way other prdictors are handled by the model). Finally, the Missing Not at Random hypothesis (MNAR; one may want to explicitely model such missingness to add to the set of predictors).\n",
    "\n",
    "Method.\n",
    "\n",
    "1) We go over each of the missing block variables (features always missing together e.g. the touch features). \n",
    "2) We run a statstical test to control whether the diagnosis is a statistically significant contributor of having a feature missing. This could be done using an ANOVA. \n",
    "3) The features for who the diagnosis is a significant predictor will be accounted for in the model, either adding an indicator variable, or by modeling the missignness in the feature space. \n",
    "\n"
   ]
  },
  {
   "cell_type": "code",
   "execution_count": 1,
   "id": "5ee17664",
   "metadata": {},
   "outputs": [
    {
     "name": "stdout",
     "output_type": "stream",
     "text": [
      "Done.\n"
     ]
    }
   ],
   "source": [
    "run init.ipynb "
   ]
  },
  {
   "cell_type": "code",
   "execution_count": 4,
   "id": "c9d14238",
   "metadata": {},
   "outputs": [
    {
     "name": "stdout",
     "output_type": "stream",
     "text": [
      "467 administrations left.\n"
     ]
    },
    {
     "data": {
      "text/html": [
       "<div>\n",
       "<style scoped>\n",
       "    .dataframe tbody tr th:only-of-type {\n",
       "        vertical-align: middle;\n",
       "    }\n",
       "\n",
       "    .dataframe tbody tr th {\n",
       "        vertical-align: top;\n",
       "    }\n",
       "\n",
       "    .dataframe thead th {\n",
       "        text-align: right;\n",
       "    }\n",
       "</style>\n",
       "<table border=\"1\" class=\"dataframe\">\n",
       "  <thead>\n",
       "    <tr style=\"text-align: right;\">\n",
       "      <th></th>\n",
       "      <th>id</th>\n",
       "    </tr>\n",
       "    <tr>\n",
       "      <th>diagnosis</th>\n",
       "      <th></th>\n",
       "    </tr>\n",
       "  </thead>\n",
       "  <tbody>\n",
       "    <tr>\n",
       "      <th>0.0</th>\n",
       "      <td>417</td>\n",
       "    </tr>\n",
       "    <tr>\n",
       "      <th>1.0</th>\n",
       "      <td>50</td>\n",
       "    </tr>\n",
       "  </tbody>\n",
       "</table>\n",
       "</div>"
      ],
      "text/plain": [
       "            id\n",
       "diagnosis     \n",
       "0.0        417\n",
       "1.0         50"
      ]
     },
     "metadata": {},
     "output_type": "display_data"
    }
   ],
   "source": [
    "grouped_missing_features = {'Floating Bubbles': ['FB_postural_sway', 'FB_postural_sway_derivative'],\n",
    "                             'DogInGrassC': ['DIGC_postural_sway', 'DIGC_postural_sway_derivative'],\n",
    "                             'DogInGrassRRL': ['DIGRRL_postural_sway', 'DIGRRL_postural_sway_derivative'],\n",
    "                             'SpinningTop': ['ST_postural_sway', 'ST_postural_sway_derivative'],\n",
    "                            \n",
    "                             'PlayingWithBlocks': ['PWB_postural_sway', 'PWB_postural_sway_derivative'],\n",
    "                             'FunAtThePark': ['FP_postural_sway', 'FP_postural_sway_derivative', \n",
    "                                              'FP_gaze_speech_correlation', 'FP_gaze_silhouette_score'], \n",
    "\n",
    "                            'MechanicalPuppy': ['MP_postural_sway', 'MP_postural_sway_derivative'],\n",
    "                             'BlowingBubbles': ['BB_gaze_percent_right', 'BB_gaze_percent_right',\n",
    "                                                'BB_postural_sway', 'BB_postural_sway_derivative'],\n",
    "                            \n",
    "                             'Social gaze': ['S_gaze_percent_right', 'S_gaze_silhouette_score'],\n",
    "                             'Silhouette Score': ['gaze_silhouette_score'],    \n",
    "                             'Gaze percent Right': ['mean_gaze_percent_right'], \n",
    "                            \n",
    "                            'S PosturalSway':['S_postural_sway'], \n",
    "                            'NS PosturalSway':['NS_postural_sway'], \n",
    "                            \n",
    "                            'S PosturalSwayDerivative':['S_postural_sway_derivative'], \n",
    "                            'NS PosturalSwayDerivative':['NS_postural_sway_derivative'],                             \n",
    "                            \n",
    "                             'RhymesAndToys': ['RT_postural_sway', 'RT_postural_sway_derivative'],\n",
    "                             'MakeMeLaugh': ['MML_postural_sway', 'MML_postural_sway_derivative'],\n",
    "                            \n",
    "                             'RTN': ['proportion_of_name_call_responses'],\n",
    "                             'RTNB': ['name_call_response_binary'],\n",
    "                             'RTNDelay': ['average_response_to_name_delay'],\n",
    "                            \n",
    "                             'Game administration': ['number_of_touches', 'number_of_target', 'exploratory_percentage'],\n",
    "                             'NoTouches': ['average_length',\n",
    "                                                  'std_length',\n",
    "                                                  'pop_rate',\n",
    "                                                  'average_touch_duration',\n",
    "                                                  'std_touch_duration',\n",
    "                                                  'average_accuracy_variation',\n",
    "                                                  'accuracy_consistency'],\n",
    "                             'TimeSpent': ['average_time_spent', 'std_time_spent']}\n",
    "\n",
    "def select(df, feat, value):\n",
    "    return df[df[feat]==value]\n",
    "\n",
    "df = pd.read_csv(AUTISM_DATA_PATH)\n",
    "\n",
    "data = Dataset(df=df, \n",
    "               missing_data_handling='without', \n",
    "               imputation_method='without', \n",
    "               sampling_method='without',\n",
    "               outcome_column='diagnosis',\n",
    "                features_name = deepcopy(DEFAULT_PREDICTORS), \n",
    "                scale_data=False,\n",
    "                use_missing_indicator_variables=grouped_missing_features, #use_missing_indicator_variables,#grouped_missing_features,\n",
    "               verbosity=0,\n",
    "               scenario='multimodal_2023',#'papers',\n",
    "               proportion_train=1)"
   ]
  },
  {
   "cell_type": "code",
   "execution_count": 5,
   "id": "e56226e7",
   "metadata": {},
   "outputs": [
    {
     "name": "stdout",
     "output_type": "stream",
     "text": [
      "FunAtThePark 3\n",
      "BlowingBubbles 3\n"
     ]
    }
   ],
   "source": [
    "from scipy.stats import chi2_contingency\n",
    "list_features_mnar = {}\n",
    "\n",
    "results_df = pd.DataFrame(columns = ['diagnosis', 'features', 'missing_proportion', 'p_values'])\n",
    "for name, feature_missing in grouped_missing_features.items():\n",
    "    \n",
    "    # Make sure than when the block variable are missing all are missing at the same time or not at all\n",
    "    if not  (~(data.df[feature_missing].isna().sum(axis=1)).isin([0, len(feature_missing)])).sum() == 0:\n",
    "        print(name, (~(data.df[feature_missing].isna().sum(axis=1)).isin([0, len(feature_missing)])).sum())\n",
    "\n",
    "\n",
    "    table = pd.crosstab(data.df['Z_{}'.format(name)], data.df['diagnosis']).to_numpy()\n",
    "    \n",
    "\n",
    "    stat, p, dof, expected = chi2_contingency(np.array(table))\n",
    "\n",
    "    n_values_with = len(data.df[data.df['Z_{}'.format(name)]==0])\n",
    "    n_values_without = len(data.df[data.df['Z_{}'.format(name)]==1])\n",
    "\n",
    "    if n_values_with < 20 or n_values_without < 20:\n",
    "        continue\n",
    "\n",
    "    #print(\"Features missing\")\n",
    "    #print(\"\\n\".join(feature_missing))\n",
    "    #display(pd.crosstab(data.df['Z_{}'.format(name)], data.df['diagnosis']))\n",
    "    #print(f\"P value: {p}\")\n",
    "    #print('\\n\\n\\n')\n",
    "    \n",
    "    if p < 0.05:\n",
    "        list_features_mnar[name] = feature_missing\n",
    "        \n",
    "    results_df = results_df.append(pd.DataFrame({'diagnosis':[0, 1], \n",
    "                                    'features': [name, name], \n",
    "                                    'missing_proportion': (table/table.sum(axis=0))[1],\n",
    "                                    'p_values': [p,p]\n",
    "                                    }))\n"
   ]
  },
  {
   "cell_type": "code",
   "execution_count": 6,
   "id": "7555903c",
   "metadata": {},
   "outputs": [
    {
     "data": {
      "text/plain": [
       "(0.0, 1.0)"
      ]
     },
     "execution_count": 6,
     "metadata": {},
     "output_type": "execute_result"
    },
    {
     "data": {
      "image/png": "[encoded data removed]",
      "text/plain": [
       "<Figure size 2160x720 with 1 Axes>"
      ]
     },
     "metadata": {
      "needs_background": "light"
     },
     "output_type": "display_data"
    }
   ],
   "source": [
    "fi(30, 10)\n",
    "sns.barplot(data=results_df, x=\"features\", y=\"missing_proportion\", hue=\"diagnosis\")\n",
    "plt.ylim([0,1])"
   ]
  },
  {
   "cell_type": "code",
   "execution_count": 7,
   "id": "92441348",
   "metadata": {},
   "outputs": [
    {
     "data": {
      "text/html": [
       "<div>\n",
       "<style scoped>\n",
       "    .dataframe tbody tr th:only-of-type {\n",
       "        vertical-align: middle;\n",
       "    }\n",
       "\n",
       "    .dataframe tbody tr th {\n",
       "        vertical-align: top;\n",
       "    }\n",
       "\n",
       "    .dataframe thead th {\n",
       "        text-align: right;\n",
       "    }\n",
       "</style>\n",
       "<table border=\"1\" class=\"dataframe\">\n",
       "  <thead>\n",
       "    <tr style=\"text-align: right;\">\n",
       "      <th></th>\n",
       "      <th>diagnosis</th>\n",
       "      <th>features</th>\n",
       "      <th>missing_proportion</th>\n",
       "      <th>p_values</th>\n",
       "    </tr>\n",
       "  </thead>\n",
       "  <tbody>\n",
       "    <tr>\n",
       "      <th>1</th>\n",
       "      <td>1</td>\n",
       "      <td>PlayingWithBlocks</td>\n",
       "      <td>0.14</td>\n",
       "      <td>0.027264</td>\n",
       "    </tr>\n",
       "    <tr>\n",
       "      <th>1</th>\n",
       "      <td>1</td>\n",
       "      <td>FunAtThePark</td>\n",
       "      <td>0.16</td>\n",
       "      <td>0.015809</td>\n",
       "    </tr>\n",
       "    <tr>\n",
       "      <th>1</th>\n",
       "      <td>1</td>\n",
       "      <td>BlowingBubbles</td>\n",
       "      <td>0.16</td>\n",
       "      <td>0.008859</td>\n",
       "    </tr>\n",
       "    <tr>\n",
       "      <th>1</th>\n",
       "      <td>1</td>\n",
       "      <td>RhymesAndToys</td>\n",
       "      <td>0.14</td>\n",
       "      <td>0.035256</td>\n",
       "    </tr>\n",
       "  </tbody>\n",
       "</table>\n",
       "</div>"
      ],
      "text/plain": [
       "  diagnosis           features  missing_proportion  p_values\n",
       "1         1  PlayingWithBlocks                0.14  0.027264\n",
       "1         1       FunAtThePark                0.16  0.015809\n",
       "1         1     BlowingBubbles                0.16  0.008859\n",
       "1         1      RhymesAndToys                0.14  0.035256"
      ]
     },
     "execution_count": 7,
     "metadata": {},
     "output_type": "execute_result"
    }
   ],
   "source": [
    "results_df[(results_df['diagnosis']==1) & (results_df['p_values'] <= 0.05)]"
   ]
  }
 ],
 "metadata": {
  "kernelspec": {
   "display_name": "combinations",
   "language": "python",
   "name": "combinations"
  },
  "language_info": {
   "codemirror_mode": {
    "name": "ipython",
    "version": 3
   },
   "file_extension": ".py",
   "mimetype": "text/x-python",
   "name": "python",
   "nbconvert_exporter": "python",
   "pygments_lexer": "ipython3",
   "version": "3.7.11"
  }
 },
 "nbformat": 4,
 "nbformat_minor": 5
}
