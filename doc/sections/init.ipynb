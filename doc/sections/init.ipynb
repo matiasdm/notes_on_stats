{
 "cells": [
  {
   "cell_type": "code",
   "execution_count": null,
   "id": "feb049e6-7445-4149-b8b1-8ac03d85fcfd",
   "metadata": {},
   "outputs": [],
   "source": [
    "# import pre-installed packages and init. \n",
    "import numpy as np\n",
    "import pandas as pd \n",
    "import os \n",
    "import matplotlib.pyplot as plt\n",
    "import matplotlib as mpl\n",
    "import seaborn as sns\n",
    "import sys \n",
    "from myst_nb import glue\n",
    "\n",
    "# add tools path and import our own tools\n",
    "sys.path.insert(0, '../tools')\n",
    "%load_ext autoreload\n",
    "%autoreload 2\n",
    "mpl.rcParams.update({'font.size': 14})\n",
    "\n",
    "class color:\n",
    "   PURPLE = '\\033[95m'\n",
    "   CYAN = '\\033[96m'\n",
    "   DARKCYAN = '\\033[36m'\n",
    "   BLUE = '\\033[94m'\n",
    "   GREEN = '\\033[92m'\n",
    "   YELLOW = '\\033[93m'\n",
    "   RED = '\\033[91m'\n",
    "   BOLD = '\\033[1m'\n",
    "   UNDERLINE = '\\033[4m'\n",
    "   END = '\\033[0m'\n",
    "\n",
    "colors = ['#1f77b4','#ff7f0e','#2ca02c','#d62728','#9467bd', '#8c564b', '#e377c2', '#7f7f7f', '#bcbd22','#17becf']\n",
    "\n",
    "\n",
    "from generateToyDataset import DatasetGenerator\n",
    "from experiments import Experiment\n",
    "from utils import fi\n",
    "from const import (DATA_DIR, RATIO_OF_MISSING_VALUES, RATIO_MISSING_PER_CLASS, IMBALANCE_RATIO)\n",
    "print(\"Done.\")"
   ]
  }
 ],
 "metadata": {
  "kernelspec": {
   "display_name": "Python 3 (ipykernel)",
   "language": "python",
   "name": "python3"
  },
  "language_info": {
   "codemirror_mode": {
    "name": "ipython",
    "version": 3
   },
   "file_extension": ".py",
   "mimetype": "text/x-python",
   "name": "python",
   "nbconvert_exporter": "python",
   "pygments_lexer": "ipython3",
   "version": "3.7.11"
  }
 },
 "nbformat": 4,
 "nbformat_minor": 5
}
